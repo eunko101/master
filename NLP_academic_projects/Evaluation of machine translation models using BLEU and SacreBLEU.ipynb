{
  "cells": [
    {
      "cell_type": "markdown",
      "metadata": {
        "id": "kHLnTmguiEaf"
      },
      "source": [
        "# How Reliable is MT Evaluation?"
      ]
    },
    {
      "cell_type": "markdown",
      "metadata": {
        "id": "ukUjd4-5nlED"
      },
      "source": [
        "## note : This is an assignment of course 'Mulitilinguality in NLP' at University of Paris Cité by professor M. Guillaume Wisniewski.\n",
        "\n",
        "\n",
        "---\n",
        "\n"
      ]
    },
    {
      "cell_type": "markdown",
      "metadata": {
        "id": "d2iyLZ1viLXQ"
      },
      "source": [
        "# Introduction\n",
        "Bleu is the de facto evaluation metric used in MT. It is, for instance, used by Meta AI in their “No Language Left Behind” (NLLB) initiative to claim that they achieve “an improvement of 44% BLEU relative to the previous state-of-the-art, laying important groundwork towards realizing a universal translation system.” [3]. 1\n",
        "\n",
        "# The goal of this lab\n",
        " is to understand the inner working of Bleu and show how using this value can easily result in wrong analysis : a thorough analysis of the result of NLLB [2] conclude that “many of Meta AI claims made in NLLB are : unfounded, misleading, and the result of a deeply flawed evaluation.”"
      ]
    },
    {
      "cell_type": "markdown",
      "metadata": {
        "id": "f7jFHppXibD6"
      },
      "source": [
        "# Using the WMT’15 test sets, 2 evaluate the performance of mBart and MarianMT."
      ]
    },
    {
      "cell_type": "markdown",
      "metadata": {
        "id": "1RJ8GEzgAehZ"
      },
      "source": [
        "## Installation"
      ]
    },
    {
      "cell_type": "code",
      "execution_count": null,
      "metadata": {
        "colab": {
          "base_uri": "https://localhost:8080/"
        },
        "id": "bNqMttD76KJz",
        "outputId": "1953c1b5-6caf-4ffc-9316-430faa94b1ec"
      },
      "outputs": [],
      "source": [
        "!pip install beautifulsoup4\n",
        "!pip install -U spacy\n",
        "!python -m spacy download en_core_web_sm\n",
        "!pip install transformers\n",
        "!pip install sentencepiece"
      ]
    },
    {
      "cell_type": "code",
      "execution_count": null,
      "metadata": {
        "colab": {
          "base_uri": "https://localhost:8080/"
        },
        "id": "TBgfA-olEni9",
        "outputId": "fd483389-2268-4b92-94d8-6b8ee79c8544"
      },
      "outputs": [],
      "source": [
        "!git clone https://github.com/google/sentencepiece.git\n",
        "!cd sentencepiece\n",
        "! mkdir build\n",
        "! cd build\n",
        "! cmake ..\n",
        "! make -j $(nproc)\n",
        "! sudo make install\n",
        "! sudo ldconfig -v"
      ]
    },
    {
      "cell_type": "markdown",
      "metadata": {
        "id": "-2B7RL9PA35o"
      },
      "source": [
        "# Data load"
      ]
    },
    {
      "cell_type": "code",
      "execution_count": null,
      "metadata": {
        "colab": {
          "base_uri": "https://localhost:8080/"
        },
        "id": "OtOH1F8LA5pt",
        "outputId": "49b4002f-ea50-4610-817e-a5cc549bcecf"
      },
      "outputs": [
        {
          "name": "stdout",
          "output_type": "stream",
          "text": [
            "1500\n",
            "1500\n",
            "1500\n",
            "1500\n"
          ]
        }
      ],
      "source": [
        "from bs4 import BeautifulSoup\n",
        "\n",
        "data_ls = [ \"enfr-ref.fr\",\"enfr-src.en\",\"fren-ref.en\",\"fren-src.fr\"]\n",
        "\n",
        "text={}\n",
        "for data in data_ls:\n",
        "  with open(\"/content/newsdiscusstest2015-\"+data+\".sgm\", 'r', encoding='utf-8') as file:\n",
        "    data_content = file.read()\n",
        "    soup = BeautifulSoup(data_content, 'html.parser')\n",
        "    text[data]=[segment.get_text() for segment in soup.find_all('seg')]\n",
        "  print(len(text[data]))"
      ]
    },
    {
      "cell_type": "markdown",
      "metadata": {
        "id": "nl1xRcccAvNG"
      },
      "source": [
        "# Translation"
      ]
    },
    {
      "cell_type": "markdown",
      "metadata": {
        "id": "m18Z_-JpyvL7"
      },
      "source": [
        "## Marian"
      ]
    },
    {
      "cell_type": "code",
      "execution_count": null,
      "metadata": {
        "colab": {
          "base_uri": "https://localhost:8080/",
          "height": 306,
          "referenced_widgets": [
            "3b98eb9157ec45608b60d52f6e5a8008",
            "42a6105ceff1458b803b30b36bc89aec",
            "0251e78afa7643b385344c0df5bf0fa1",
            "5a294e77bac14d39925cf93ecd6172fc",
            "916394b821184239bf81145b365805d0",
            "ae675ad545874b95a88907ab24cc4c50",
            "4da85bf6dbd04820af2273e5263cca77",
            "17885e4c73b24be68114e29959596b30",
            "7881bc348d224e31812a53365d0ca977",
            "ce4a3739863743f1a33ce23b5a041c65",
            "be4e4c980ef74c6bb7aaf9d3d53ca3a5",
            "3c4606078108467b923c7934846255d9",
            "62a9a3c41eea46e7999becc22c0237fc",
            "7e22be99bb094ec495207d8d1cc9de52",
            "2b407119d7944b52b01afce40d30640e",
            "5a11a5cddbf647f887bc27c71fe470c0",
            "54e482dfd1d540108a69fd8e0a48c154",
            "c6e76f699ecc409dadb6c1336aa4ea16",
            "4ec9dcffe0d94eff86f37b099bf25c3b",
            "fbc3a019caae4c2f8b4538b460121799",
            "df30e8dfd8b444419c82638a86df46c3",
            "32b47452db3f46528ce6ffbb2c280553",
            "044ea0ba9a6446379229c3df9786dcce",
            "c02b9e66d7bb4d4997a7083915c48a0b",
            "ced4b1c6454f4f199154ddad20049af7",
            "225ec442e1544c06a277f48d26f818ea",
            "3541409c744543a5ae8cd51db63cb771",
            "41ef92512b2549e28a835d5e6939b4cd",
            "ff35f7fd012f496ea790d90a42cea938",
            "47199762684c4c51869f12154966f341",
            "3f24dfb2952a419897f16ea2c2b1458a",
            "a0abbceaa5114c0d90b955aa80c474a2",
            "08e2ac674cfb4a12ab5894cddc7c4f75",
            "3b1cfe88f51040ed9657e38623ae8ce3",
            "27b9b5e98d1b45528c750e940cca4077",
            "7bb30be55d04449fbcefdf36d11e7d91",
            "93055122aa5a468a82733f974d397f95",
            "83ff180b3d88480fb23fa7b75966ad17",
            "fa8fa7a157a041049fc1059784bae74d",
            "a05ae7551cf2457886765fb68737a008",
            "a822f301991a4216a8b22ceae06eb684",
            "b2d36bbd6da34a1b9f459414e948d9a1",
            "72d94e915a2c4f03b48c92f5469231fc",
            "daf932f47097416dad7824557046c4f6",
            "65356353e7a14b2f8791351cdffc700f",
            "595ede063ab34651a33f94a25aec2347",
            "f813b2a9a64447b09614709afd7013a8",
            "b0cdf3a6a7754a3f96c42791db1620b7",
            "79f27e2227ac49659cd4b67606b3ef6e",
            "535281dfcd474b2dbee4788806756597",
            "47c8b8a6f7e54953a7231a4577c6dbaa",
            "80b0ea229af44c8593cf4153874e943c",
            "4fdf680c857f40e8bc2d2d7c467d0f28",
            "00e49e61c84c45119230239c11983971",
            "5f92233310164ab58afbe1ac07c37c29",
            "ea9e2f3cdaa647b895ef286634a6ca73",
            "03320bce423d4f68a72af6a2f3d237c9",
            "15984a0c6d014fb4877ee13b90ea0d43",
            "b219caffedd24a00ba227bd05534d4b9",
            "3b0dde9b6eee442b8292c88bb76fd0e8",
            "1821bf9a5425410e8b7c3a4fa0980fb8",
            "ccc8e90de4b84247914ba007a849ea20",
            "db72279aef5f4951944f85eeb892a092",
            "8039edbfc4314b41ac4440ef78b15795",
            "5132ee7490304732914c4e7cab1d753a",
            "6c6c78f8249848989f6f3fdb0b61670e",
            "bfa14377ad944f5eb5bcefc7f9a6fc56",
            "738b27867d234dc1be8c268e6ca1f1e8",
            "5096ed020dd64a83b939e77a345d2dcf",
            "84cfeb823a144e19809858b308d97b7d",
            "f1ea4a2d3eeb4870957fb7240d4e49cd",
            "7309a9be4b034c08b950a7df51622066",
            "e32918a0d0a44eeea1d9d7ba900d5524",
            "b45a9ee18c7a4cc48093436ad2b80796",
            "6755d688e78e498bb6c1e58488d691c0",
            "7bb77ebcb17b49e18050a6666ee61093",
            "243e7c5755e740068cefbce37d9d9ecc"
          ]
        },
        "id": "d2x8XwV3MOPd",
        "outputId": "e96e42a2-5c9f-4204-8ffc-2cc4b37b390b"
      },
      "outputs": [
        {
          "data": {
            "application/vnd.jupyter.widget-view+json": {
              "model_id": "3b98eb9157ec45608b60d52f6e5a8008",
              "version_major": 2,
              "version_minor": 0
            },
            "text/plain": [
              "Downloading (…)okenizer_config.json:   0%|          | 0.00/265 [00:00<?, ?B/s]"
            ]
          },
          "metadata": {},
          "output_type": "display_data"
        },
        {
          "data": {
            "application/vnd.jupyter.widget-view+json": {
              "model_id": "3c4606078108467b923c7934846255d9",
              "version_major": 2,
              "version_minor": 0
            },
            "text/plain": [
              "Downloading (…)olve/main/source.spm:   0%|          | 0.00/800k [00:00<?, ?B/s]"
            ]
          },
          "metadata": {},
          "output_type": "display_data"
        },
        {
          "data": {
            "application/vnd.jupyter.widget-view+json": {
              "model_id": "044ea0ba9a6446379229c3df9786dcce",
              "version_major": 2,
              "version_minor": 0
            },
            "text/plain": [
              "Downloading (…)olve/main/target.spm:   0%|          | 0.00/779k [00:00<?, ?B/s]"
            ]
          },
          "metadata": {},
          "output_type": "display_data"
        },
        {
          "data": {
            "application/vnd.jupyter.widget-view+json": {
              "model_id": "3b1cfe88f51040ed9657e38623ae8ce3",
              "version_major": 2,
              "version_minor": 0
            },
            "text/plain": [
              "Downloading (…)olve/main/vocab.json:   0%|          | 0.00/1.46M [00:00<?, ?B/s]"
            ]
          },
          "metadata": {},
          "output_type": "display_data"
        },
        {
          "data": {
            "application/vnd.jupyter.widget-view+json": {
              "model_id": "65356353e7a14b2f8791351cdffc700f",
              "version_major": 2,
              "version_minor": 0
            },
            "text/plain": [
              "Downloading (…)lve/main/config.json:   0%|          | 0.00/1.37k [00:00<?, ?B/s]"
            ]
          },
          "metadata": {},
          "output_type": "display_data"
        },
        {
          "name": "stderr",
          "output_type": "stream",
          "text": [
            "/usr/local/lib/python3.10/dist-packages/transformers/models/marian/tokenization_marian.py:197: UserWarning: Recommended: pip install sacremoses.\n",
            "  warnings.warn(\"Recommended: pip install sacremoses.\")\n"
          ]
        },
        {
          "data": {
            "application/vnd.jupyter.widget-view+json": {
              "model_id": "ea9e2f3cdaa647b895ef286634a6ca73",
              "version_major": 2,
              "version_minor": 0
            },
            "text/plain": [
              "Downloading pytorch_model.bin:   0%|          | 0.00/312M [00:00<?, ?B/s]"
            ]
          },
          "metadata": {},
          "output_type": "display_data"
        },
        {
          "data": {
            "application/vnd.jupyter.widget-view+json": {
              "model_id": "bfa14377ad944f5eb5bcefc7f9a6fc56",
              "version_major": 2,
              "version_minor": 0
            },
            "text/plain": [
              "Downloading (…)neration_config.json:   0%|          | 0.00/293 [00:00<?, ?B/s]"
            ]
          },
          "metadata": {},
          "output_type": "display_data"
        }
      ],
      "source": [
        "from transformers import MarianTokenizer, MarianMTModel\n",
        "\n",
        "model_name = 'Helsinki-NLP/opus-mt-romance-en'\n",
        "tokenizer = MarianTokenizer.from_pretrained(model_name)\n",
        "model = MarianMTModel.from_pretrained(model_name)\n",
        "\n",
        "def translate_marian(sentence):\n",
        "  tokenized_text = tokenizer(sentence, return_tensors=\"pt\", padding=True)\n",
        "  translated_tokens = model.generate(**tokenized_text)\n",
        "  translated_text = tokenizer.decode(translated_tokens[0], skip_special_tokens=True)\n",
        "  return translated_text"
      ]
    },
    {
      "cell_type": "code",
      "execution_count": null,
      "metadata": {
        "id": "QAu6n-SnRZTW"
      },
      "outputs": [],
      "source": [
        "# translated_fren = [translate_marian(sent) for sent in text[\"fren-src.fr\"]]"
      ]
    },
    {
      "cell_type": "code",
      "execution_count": null,
      "metadata": {
        "id": "uSjqUOcCp_GK"
      },
      "outputs": [],
      "source": [
        "# translated_fren[:10]"
      ]
    },
    {
      "cell_type": "code",
      "execution_count": null,
      "metadata": {
        "id": "rYcpzj-R4p8R"
      },
      "outputs": [],
      "source": [
        "# with open(\"translated_fren_marian.txt\", \"w\", encoding=\"utf-8\") as file:\n",
        "#   for sent in translated_fren:\n",
        "#     file.write(sent+\"\\n\")"
      ]
    },
    {
      "cell_type": "code",
      "execution_count": null,
      "metadata": {
        "id": "oLA1SC4Mu8OS"
      },
      "outputs": [],
      "source": [
        "# from transformers import MarianTokenizer, MarianMTModel\n",
        "\n",
        "# model_name = 'Helsinki-NLP/opus-mt-en-ROMANCE'\n",
        "# tokenizer = MarianTokenizer.from_pretrained(model_name)\n",
        "# model = MarianMTModel.from_pretrained(model_name)\n",
        "\n",
        "# def translate_marian(sentence):\n",
        "#   tokenized_text = tokenizer(\">>fr<< \"+sentence, return_tensors=\"pt\", padding=True)\n",
        "#   translated_tokens = model.generate(**tokenized_text)\n",
        "#   translated_text = tokenizer.decode(translated_tokens[0], skip_special_tokens=True)\n",
        "#   return translated_text"
      ]
    },
    {
      "cell_type": "code",
      "execution_count": null,
      "metadata": {
        "id": "jxqYVwLPYn5-"
      },
      "outputs": [],
      "source": [
        "# translated_enfr = [translate_marian(sent) for sent in text[\"enfr-src.en\"]] # 41"
      ]
    },
    {
      "cell_type": "code",
      "execution_count": null,
      "metadata": {
        "id": "iNlbC5nrPkFe"
      },
      "outputs": [],
      "source": [
        "# with open(\"translated_enfr_marian.txt\", \"w\", encoding=\"utf-8\") as file:\n",
        "#   for sent in translated_enfr:\n",
        "#     file.write(sent+\"\\n\")"
      ]
    },
    {
      "cell_type": "markdown",
      "metadata": {
        "id": "UxgAZRKNysXE"
      },
      "source": [
        "## MBart"
      ]
    },
    {
      "cell_type": "code",
      "execution_count": null,
      "metadata": {
        "id": "hdIfn1OJl12v"
      },
      "outputs": [],
      "source": [
        "# import torch\n",
        "# from transformers import MBartForConditionalGeneration, MBart50TokenizerFast\n",
        "\n",
        "# device = torch.device('cuda' if torch.cuda.is_available() else 'cpu')\n",
        "# model_name = \"facebook/mbart-large-50-many-to-many-mmt\"\n",
        "# # model_name = \"facebook/mbart-large-cc25\"\n",
        "# model = MBartForConditionalGeneration.from_pretrained(model_name).to(device)\n",
        "# tokenizer = MBart50TokenizerFast.from_pretrained(model_name)\n",
        "# tokenizer.src_lang = \"en_XX\"\n",
        "\n",
        "# def translate_mbart(sentence):\n",
        "#     inputs = tokenizer(sentence, return_tensors=\"pt\").to(device)\n",
        "#     translated_tokens = model.generate(**inputs, forced_bos_token_id=tokenizer.lang_code_to_id[\"fr_XX\"])\n",
        "#     translated_sentence = tokenizer.batch_decode(translated_tokens, skip_special_tokens=True)[0]\n",
        "\n",
        "#     return translated_sentence\n"
      ]
    },
    {
      "cell_type": "code",
      "execution_count": null,
      "metadata": {
        "id": "eyH-ygvnmHzd"
      },
      "outputs": [],
      "source": [
        "# translated_enfr = [translate_mbart(sent) for sent in text[\"enfr-src.en\"]]"
      ]
    },
    {
      "cell_type": "code",
      "execution_count": null,
      "metadata": {
        "id": "_vBugkxQmuWf"
      },
      "outputs": [],
      "source": [
        "# with open(\"translated_enfr_mbart.txt\", \"w\", encoding=\"utf-8\") as file:\n",
        "#   for sent in translated_enfr:\n",
        "#     file.write(sent+\"\\n\")"
      ]
    },
    {
      "cell_type": "markdown",
      "metadata": {
        "id": "QRap_RQSqcmz"
      },
      "source": [
        "text file to list"
      ]
    },
    {
      "cell_type": "code",
      "execution_count": null,
      "metadata": {
        "id": "n_AoEMjjqcEx"
      },
      "outputs": [],
      "source": [
        "file_ls = [\"translated_fren_mbart\",\"translated_enfr_mbart\",\"translated_fren_marian\",\"translated_enfr_marian\"]\n",
        "translated_text={}\n",
        "\n",
        "for filename in file_ls:\n",
        "  with open(\"/content/\"+filename+\".txt\") as file:\n",
        "    content = file.read()\n",
        "    translated_text[filename] = [sent for sent in content.split(\"\\n\")[:-1]]\n"
      ]
    },
    {
      "cell_type": "code",
      "execution_count": null,
      "metadata": {
        "id": "L9Knx2yysb9Z"
      },
      "outputs": [],
      "source": [
        "# for filename in file_ls:print(len(translated_text[filename]))"
      ]
    },
    {
      "cell_type": "markdown",
      "metadata": {
        "id": "-ki6TJjmnDAg"
      },
      "source": [
        "# BLEU evaluation"
      ]
    },
    {
      "cell_type": "code",
      "execution_count": null,
      "metadata": {
        "id": "y_zF_LgOn-z8"
      },
      "outputs": [],
      "source": [
        "!pip install nltk\n"
      ]
    },
    {
      "cell_type": "code",
      "execution_count": null,
      "metadata": {
        "id": "XrDl9rzKdZu-"
      },
      "outputs": [],
      "source": [
        "import nltk\n",
        "nltk.download('punkt')\n"
      ]
    },
    {
      "cell_type": "code",
      "execution_count": null,
      "metadata": {
        "id": "vH0T4_a2mLb-"
      },
      "outputs": [],
      "source": [
        "from nltk.translate.bleu_score import corpus_bleu, sentence_bleu\n",
        "\n",
        "def bleu(machine_translations, human_translations, language):\n",
        "  tokenized_machine_translations = [nltk.word_tokenize(sentence, language) for sentence in machine_translations]\n",
        "  tokenized_human_translations = [nltk.word_tokenize(sentence, language) for sentence in human_translations]\n",
        "  # Each reference translation should be in a list of lists\n",
        "  references = [[ref] for ref in tokenized_human_translations]\n",
        "  hypotheses = tokenized_machine_translations\n",
        "  bleu_score = corpus_bleu(references, hypotheses)\n",
        "  return round(bleu_score,2)\n"
      ]
    },
    {
      "cell_type": "code",
      "execution_count": null,
      "metadata": {
        "id": "L9XpaJuMqC4O"
      },
      "outputs": [],
      "source": [
        "bleu(translated_text[\"translated_fren_mbart\"], text['fren-ref.en'], \"english\")"
      ]
    },
    {
      "cell_type": "code",
      "execution_count": null,
      "metadata": {
        "id": "vQ2LEQ-t2qX5"
      },
      "outputs": [],
      "source": [
        "# for i in range(30):\n",
        "#   print(translated_text[\"translated_fren_mbart\"][i])\n",
        "#   print(text['fren-ref.en'][i])"
      ]
    },
    {
      "cell_type": "code",
      "execution_count": null,
      "metadata": {
        "id": "bjLsnRvu3aEV"
      },
      "outputs": [],
      "source": [
        "bleu(translated_text[\"translated_enfr_mbart\"], text['enfr-ref.fr'], \"french\")"
      ]
    },
    {
      "cell_type": "code",
      "execution_count": null,
      "metadata": {
        "id": "Zyw_JT3-3aR5"
      },
      "outputs": [],
      "source": [
        "bleu(translated_text[\"translated_fren_marian\"], text['fren-ref.en'], \"english\")"
      ]
    },
    {
      "cell_type": "code",
      "execution_count": null,
      "metadata": {
        "id": "7XnccD1R3aid"
      },
      "outputs": [],
      "source": [
        "bleu(translated_text[\"translated_enfr_marian\"], text['enfr-ref.fr'], \"french\")"
      ]
    },
    {
      "cell_type": "code",
      "execution_count": null,
      "metadata": {
        "id": "0JOEWLpWqSzd"
      },
      "outputs": [],
      "source": [
        "bleu(text['enfr-ref.fr'], text['fren-src.fr'], \"french\")"
      ]
    },
    {
      "cell_type": "code",
      "execution_count": null,
      "metadata": {
        "id": "3B2LFyUMqjIR"
      },
      "outputs": [],
      "source": [
        "bleu(text['fren-ref.en'], text['enfr-src.en'], \"english\")"
      ]
    },
    {
      "cell_type": "markdown",
      "metadata": {
        "id": "mkvkdW5-i5m7"
      },
      "source": [
        "Result :"
      ]
    },
    {
      "cell_type": "markdown",
      "metadata": {
        "id": "9Z1a7B9tjcOR"
      },
      "source": [
        "|        | English to French | French to English |\n",
        "|--------|-------------------|---------------------|\n",
        "| **mBart**  |    0.32               |    0.36                 |\n",
        "| **MarianMT** |        0.37           |      0.39               |\n"
      ]
    },
    {
      "cell_type": "markdown",
      "metadata": {
        "id": "oLfTqdMSi9Dj"
      },
      "source": [
        "Analysis:\n",
        "\n",
        "The training differences between the two models are as follows: MarianMT is a neural machine translation system based on supervised training with parallel data (pairs consisting of one language as the source and another as the target). In contrast, mBART is trained on monolingual data from multiple languages, learning how to reconstruct masked (or noised) representations of sentences from various languages. This is possible because it internalizes shared linguistic features across different languages and becomes capable of translating sentences that were not seen during training (known as zero-shot translation).\n",
        "I believe MarianMT performs better because its strength lies in its optimized models for specific language pairs, in our case, the Romance language and English pairs ('Helsinki-NLP/opus-mt-romance-en'). While mBART is trained on various languages (\"facebook/mbart-large-50-many-to-many-mmt\"), it likely performs better on translations involving a variety of language requests (especially where low-resource languages are concerned, showcasing its capabilities). However, for this French-English translation task, which is not a low- resource task and is a designated one-to-one language translation, the performance of mBART may not surpass that of MarianMT."
      ]
    },
    {
      "cell_type": "markdown",
      "metadata": {
        "id": "wtliTYm_8BQm"
      },
      "source": [
        "## bigram mismatching ?"
      ]
    },
    {
      "cell_type": "markdown",
      "metadata": {
        "id": "19IK2un8jqRe"
      },
      "source": [
        "As noticed by [1], Bleu places no explicit constraints on the order that matching n-grams occur in. It is therefore possible, given a sentence, to generate many new sentences with at least as many n-gram matches by permuting words around bigram mismatches."
      ]
    },
    {
      "cell_type": "markdown",
      "metadata": {
        "id": "R74ChR6fjih5"
      },
      "source": [
        "### Explain on an example why such permutations will never decrease the Bleu score.\n",
        "\n",
        "Blue score is obtained by\n",
        "$\\text{BLEU} = BP \\times \\exp\\left(\\sum_{n=1}^{N} w_n \\log(P_n)\\right)$\n",
        "where $P_n$ is number of correct ngrams in the hypothesis sentence divided by total number of ngram in the hypothesis sentence and BP is penalty for short sentence.\n",
        "\n",
        "Let's see this with an example of french-english translation.\n",
        "- source sentence : *Si vous avez d'autres questions ou besoin de plus d'exemples, n'hésitez pas à demander !*\n",
        "\n",
        "- reference translation : *If you have any other questions or need more examples, don't be afraid to ask!*\n",
        "\n",
        "- hypothesis translation A: *If you have any further questions or need more examples, please don't hesitate to ask!*\n",
        "\n",
        "Among 18 bigrams in hypothesis translation 12 are matching with bigrams of reference translation.  These are corresponding bigrams marked by parenthesis.\n",
        "\t*(If you have any) further (questions or need more examples), please (don't )hesitate (to ask!)*\n",
        "\n",
        "However this translation below reaches the same score :\n",
        "- hypothesis translation B:\n",
        "  *(don't ) (questions or need more examples)  (If you have any)   , please hesitate  (to ask!) further*\n",
        "  \n",
        "This is possible because keeping the correct ngram chunks but placing them in different order doesn't affect counting the number of matches and Bleu score. Therefore, even if translation A and B which are totally different in terms of grammatical correctness and semantic ( B almost sounds like the opposite suggestion of A), they would get same Bleu score.\n"
      ]
    },
    {
      "cell_type": "markdown",
      "metadata": {
        "id": "rEk_vnCnlOdu"
      },
      "source": [
        "### Given a sentence with *n* words and *b* bigram mismatches, how many sentences can you generate with this principle. Compute the number of sentences you will obtain on the WMT’15 test set.\n",
        "\n",
        "If there is b mismatching bigram,  it means n-b matching bigram, permutation of them is (n-b)!  As french-english data of WMT’15 test set has 1500 sentences.\n",
        "\n",
        "Comparing translated english sentence of WMT’15 with  that of marianMT,\n",
        "reference translation of 1500 sentences contains 27097 tokens obtained by nltk word tokenizer and there are 14111  unmatching bigrams. So we can say that there is (27097 - 14111)! ways of permutations generating same Bleu score."
      ]
    },
    {
      "cell_type": "code",
      "execution_count": null,
      "metadata": {
        "id": "gxvAwwRblgif"
      },
      "outputs": [],
      "source": [
        "def bigram(text):\n",
        "  bigrams = []\n",
        "  for sent in text :\n",
        "    bigrams.append( list(nltk.bigrams(nltk.word_tokenize(sent))) )\n",
        "  return bigrams\n",
        "\n",
        "# count matching bigrams → subtact it from totam to get nb of unmatching bigrams\n",
        "ref_bi = bigram(text['fren-ref.en'])\n",
        "hypo_bi = bigram(translated_text[\"translated_fren_marian\"])\n",
        "\n",
        "count = 0\n",
        "for h, r in zip(hypo_bi, ref_bi):\n",
        "  for ele in h:\n",
        "    if ele in r: count+=1"
      ]
    },
    {
      "cell_type": "code",
      "execution_count": null,
      "metadata": {
        "id": "txJJfzI98M24"
      },
      "outputs": [],
      "source": [
        "# def bigram(text):\n",
        "#   bigrams = []\n",
        "#   for sent in text :\n",
        "#     bigrams.append( list(nltk.bigrams(nltk.word_tokenize(sent))) )\n",
        "#   return bigrams\n"
      ]
    },
    {
      "cell_type": "code",
      "execution_count": null,
      "metadata": {
        "id": "35JSwT9z8-rZ"
      },
      "outputs": [],
      "source": [
        "# # count matching bigrams\n",
        "# ref_bi = bigram(text['fren-ref.en'])\n",
        "# hypo_bi = bigram(translated_text[\"translated_fren_marian\"])\n",
        "\n",
        "# count = 0\n",
        "# for h, r in zip(hypo_bi, ref_bi):\n",
        "#   for ele in h:\n",
        "#     if ele in r: count+=1\n",
        "\n",
        "# count"
      ]
    },
    {
      "cell_type": "code",
      "execution_count": null,
      "metadata": {
        "id": "0Zyzj05UCb5P"
      },
      "outputs": [],
      "source": [
        "# nb_bigram = 0\n",
        "# for bigrams_for_sent in hypo_bi:\n",
        "#   nb_bigram += len(bigrams_for_sent)\n",
        "\n",
        "# nb_bigram"
      ]
    },
    {
      "cell_type": "code",
      "execution_count": null,
      "metadata": {
        "id": "Kpl7ysHfFXzA"
      },
      "outputs": [],
      "source": [
        "# token_nb = 0\n",
        "# for sent in translated_text[\"translated_fren_marian\"] :\n",
        "#   token_nb += len(nltk.word_tokenize(sent))\n",
        "\n",
        "# token_nb"
      ]
    },
    {
      "cell_type": "markdown",
      "metadata": {
        "id": "KgHNf7SfdI9o"
      },
      "source": [
        "# SacreBleu"
      ]
    },
    {
      "cell_type": "code",
      "execution_count": null,
      "metadata": {
        "id": "VBt5dkv6dK_B"
      },
      "outputs": [],
      "source": [
        "!pip install sacrebleu"
      ]
    },
    {
      "cell_type": "code",
      "execution_count": null,
      "metadata": {
        "id": "fTLlL2VAeEen"
      },
      "outputs": [],
      "source": [
        "# ! sacrebleu -t wmt15 -l en-fr -i translated_enfr_marian.txt -b\n",
        "# ! sacrebleu -t wmt15 -l fr-en -i translated_fren_marian.txt -b\n",
        "# ! sacrebleu -t wmt15 -l en-fr -i translated_enfr_mbart.txt -b\n",
        "# ! sacrebleu -t wmt15 -l fr-en -i translated_fren_mbart.txt -b"
      ]
    },
    {
      "cell_type": "markdown",
      "metadata": {
        "id": "f8bUoy3rlqA-"
      },
      "source": [
        "|        | English to French | French to English |\n",
        "|--------|-------------------|---------------------|\n",
        "| **mBart**  |    32.6              |    36.1                |\n",
        "| **MarianMT** |        37.8           |      38.7               |"
      ]
    },
    {
      "cell_type": "markdown",
      "metadata": {
        "id": "jhZIkLjEmzn8"
      },
      "source": [
        "There is just a subtle difference between the results of Bleu and sacreBleu. All of fours results showed differences  less than 1%. I assume that the way of tokenization is not that influential for our translation result evaluatio"
      ]
    },
    {
      "cell_type": "markdown",
      "metadata": {
        "id": "UUjpLkXPE2z4"
      },
      "source": [
        "-when considering the “raw” translation hypotheses and references ;"
      ]
    },
    {
      "cell_type": "code",
      "execution_count": null,
      "metadata": {
        "id": "zbabVd_TH0W6"
      },
      "outputs": [],
      "source": [
        "data_ls = [ \"enfr-ref.fr\",\"enfr-src.en\",\"fren-ref.en\",\"fren-src.fr\"]\n",
        "\n",
        "for data in data_ls:\n",
        "  with open(str(data)+\".txt\", \"w\", encoding=\"utf_8\") as file:\n",
        "    for sent in text[data]:\n",
        "      file.write(sent+ \"\\n\")\n",
        "\n",
        "\n",
        "    # with open(\"translated_enfr_marian.txt\", \"w\", encoding=\"utf-8\") as file:\n",
        "#   for sent in translated_enfr:\n",
        "#     file.write(sent+\"\\n\")"
      ]
    },
    {
      "cell_type": "code",
      "execution_count": null,
      "metadata": {
        "id": "pGXeaV6pE74w"
      },
      "outputs": [],
      "source": [
        "! sacrebleu -t wmt15 -l en-fr -i fren-src.fr.txt -b\n"
      ]
    },
    {
      "cell_type": "markdown",
      "metadata": {
        "id": "yXTf-zsTE6KT"
      },
      "source": [
        "-when the translation hypotheses and references have been tokenized in subword units;"
      ]
    },
    {
      "cell_type": "code",
      "execution_count": null,
      "metadata": {
        "id": "mlOyZ5xSYmmb"
      },
      "outputs": [],
      "source": [
        "from transformers import BertTokenizer\n",
        "\n",
        "def subword_tokenization(sentence):\n",
        "  tokenizer = BertTokenizer.from_pretrained(\"bert-base-uncased\")\n",
        "  tokens = tokenizer.tokenize(sentence)\n",
        "  tokenized_sent = \" \".join(t for t in tokens)\n",
        "  return tokenized_sent\n"
      ]
    },
    {
      "cell_type": "code",
      "execution_count": null,
      "metadata": {
        "id": "x0JIlZCTkox4"
      },
      "outputs": [],
      "source": [
        "tokenized_sentences = {}\n",
        "for key in translated_text.keys():\n",
        "# for key in list(translated_text.keys()):\n",
        "  tokenized_sentences[key] = [subword_tokenization(sent) for sent in translated_text[key]] #30m\n"
      ]
    },
    {
      "cell_type": "code",
      "execution_count": null,
      "metadata": {
        "id": "dvJNke6h0vYv"
      },
      "outputs": [],
      "source": [
        "# tokenized_sentences['translated_enfr_marian'][:10]"
      ]
    },
    {
      "cell_type": "code",
      "execution_count": null,
      "metadata": {
        "id": "ewq2n2V0mjJ8"
      },
      "outputs": [],
      "source": [
        "# for key in tokenized_sentences.keys():\n",
        "#   with open(\"tokenized_\"+str(key)+\".txt\", \"w\", encoding = \"utf-8\") as file:\n",
        "#     for sent in tokenized_sentences[key]:\n",
        "#       file.write(sent+\"\\n\")"
      ]
    },
    {
      "cell_type": "code",
      "execution_count": null,
      "metadata": {
        "id": "sFvkHLJsli6s"
      },
      "outputs": [],
      "source": [
        "tokenized_ref = {}\n",
        "keys = [\"enfr-ref.fr\", \"fren-ref.en\"]\n",
        "for key in keys:\n",
        "# for key in list(translated_text.keys()):\n",
        "  tokenized_ref[key] = [subword_tokenization(sent) for sent in text[key]]\n"
      ]
    },
    {
      "cell_type": "code",
      "execution_count": null,
      "metadata": {
        "id": "1vfc9IM42sQw"
      },
      "outputs": [],
      "source": [
        "# for key in tokenized_ref.keys():\n",
        "#   with open(\"tokenized_\" +str(key)+ \".txt\", \"w\", encoding = \"utf-8\") as file:\n",
        "#     for sent in tokenized_ref[key]:\n",
        "#       file.write(sent+\"\\n\")"
      ]
    },
    {
      "cell_type": "code",
      "execution_count": null,
      "metadata": {
        "id": "_cAbQmAgifhM"
      },
      "outputs": [],
      "source": [
        "!cat tokenized_translated_enfr_marian.txt | sacrebleu --force tokenized_enfr-ref.fr.txt\n",
        "!cat tokenized_translated_fren_marian.txt | sacrebleu --force tokenized_fren-ref.en.txt\n",
        "!cat tokenized_translated_enfr_mbart.txt | sacrebleu --force tokenized_enfr-ref.fr.txt\n",
        "!cat tokenized_translated_fren_mbart.txt | sacrebleu --force tokenized_fren-ref.en.txt"
      ]
    },
    {
      "cell_type": "markdown",
      "metadata": {
        "id": "CofrTrbylxNq"
      },
      "source": [
        "|        | English to French | French to English |\n",
        "|--------|-------------------|---------------------|\n",
        "| **mBart**  |         55.5          |        41.1       \n",
        "| **MarianMT** |     60.5       |       44.4           |"
      ]
    },
    {
      "cell_type": "markdown",
      "metadata": {
        "id": "jXBOn9HImveD"
      },
      "source": [
        "Adopting subword tokenizations gives higher score for all models and all languages (the largest gap is 22.9 higher). This seems general and normal because subword tokenization generates more smaller tokens to be counted allowing augmenting the number of matches that full word has not.  "
      ]
    },
    {
      "cell_type": "code",
      "execution_count": null,
      "metadata": {
        "id": "k7l6Ar4G3t2s"
      },
      "outputs": [],
      "source": []
    },
    {
      "cell_type": "markdown",
      "metadata": {
        "id": "LC3O10QUFCUx"
      },
      "source": [
        "-when the translation hypotheses and references have been tokenized in characters(this amounts to adding a space between each character of the references and of the translation hypotheses)."
      ]
    },
    {
      "cell_type": "code",
      "execution_count": null,
      "metadata": {
        "id": "JDj0BsZXgF1t"
      },
      "outputs": [],
      "source": [
        "def char_tokenize(sent):\n",
        "  chars = [ch for ch in sent]\n",
        "  return \" \".join(chars)"
      ]
    },
    {
      "cell_type": "code",
      "execution_count": null,
      "metadata": {
        "id": "RciddUTjgigk"
      },
      "outputs": [],
      "source": [
        "ch_tokenized = {}\n",
        "for key in translated_text.keys():\n",
        "# for key in list(translated_text.keys()):\n",
        "  ch_tokenized[key] = [char_tokenize(sent) for sent in translated_text[key]]\n"
      ]
    },
    {
      "cell_type": "code",
      "execution_count": null,
      "metadata": {
        "id": "XMzWImOujsaP"
      },
      "outputs": [],
      "source": [
        "# ch_tokenized = {}\n",
        "keys = [\"enfr-ref.fr\", \"fren-ref.en\"]\n",
        "for key in keys:\n",
        "# for key in list(translated_text.keys()):\n",
        "  ch_tokenized[key] = [char_tokenize(sent) for sent in text[key]]\n"
      ]
    },
    {
      "cell_type": "code",
      "execution_count": null,
      "metadata": {
        "id": "5BDWvrOwj9fw"
      },
      "outputs": [],
      "source": [
        "# ch_tokenized[\"translated_fren_mbart\"][:10]"
      ]
    },
    {
      "cell_type": "code",
      "execution_count": null,
      "metadata": {
        "id": "GmtEyuMLkP8i"
      },
      "outputs": [],
      "source": [
        "for key in ch_tokenized.keys():\n",
        "  with open(\"ch_\" +str(key)+ \".txt\", \"w\", encoding = \"utf-8\") as file:\n",
        "    for sent in ch_tokenized[key]:\n",
        "      file.write(sent+\"\\n\")"
      ]
    },
    {
      "cell_type": "code",
      "execution_count": null,
      "metadata": {
        "id": "5qRkmK8qkL83"
      },
      "outputs": [],
      "source": [
        "# !cat ch_translated_enfr_marian.txt | sacrebleu --force ch_enfr-ref.fr.txt\n",
        "# !cat ch_translated_fren_marian.txt | sacrebleu --force ch_fren-ref.en.txt\n",
        "# !cat ch_translated_enfr_mbart.txt | sacrebleu --force ch_enfr-ref.fr.txt\n",
        "# !cat ch_translated_fren_mbart.txt | sacrebleu --force ch_fren-ref.en.txt"
      ]
    },
    {
      "cell_type": "markdown",
      "metadata": {
        "id": "N6TbnJ7smkS8"
      },
      "source": [
        "|        | English to French | French to English |\n",
        "|--------|-------------------|---------------------|\n",
        "| **mBart**  |         64.1        |        65.1      \n",
        "| **MarianMT** |     68.6       |       67.1          |"
      ]
    },
    {
      "cell_type": "markdown",
      "metadata": {
        "id": "G5JQb2bZmqSi"
      },
      "source": [
        "Similarly, the unit of tokenization becomes much smaller in to character therefore, scores get much higher for all of four categories."
      ]
    }
  ],
  "metadata": {
    "accelerator": "GPU",
    "colab": {
      "gpuType": "T4",
      "provenance": []
    },
    "kernelspec": {
      "display_name": "Python 3",
      "name": "python3"
    },
    "language_info": {
      "name": "python"
    },
    "widgets": {
      "application/vnd.jupyter.widget-state+json": {
        "00e49e61c84c45119230239c11983971": {
          "model_module": "@jupyter-widgets/base",
          "model_module_version": "1.2.0",
          "model_name": "LayoutModel",
          "state": {
            "_model_module": "@jupyter-widgets/base",
            "_model_module_version": "1.2.0",
            "_model_name": "LayoutModel",
            "_view_count": null,
            "_view_module": "@jupyter-widgets/base",
            "_view_module_version": "1.2.0",
            "_view_name": "LayoutView",
            "align_content": null,
            "align_items": null,
            "align_self": null,
            "border": null,
            "bottom": null,
            "display": null,
            "flex": null,
            "flex_flow": null,
            "grid_area": null,
            "grid_auto_columns": null,
            "grid_auto_flow": null,
            "grid_auto_rows": null,
            "grid_column": null,
            "grid_gap": null,
            "grid_row": null,
            "grid_template_areas": null,
            "grid_template_columns": null,
            "grid_template_rows": null,
            "height": null,
            "justify_content": null,
            "justify_items": null,
            "left": null,
            "margin": null,
            "max_height": null,
            "max_width": null,
            "min_height": null,
            "min_width": null,
            "object_fit": null,
            "object_position": null,
            "order": null,
            "overflow": null,
            "overflow_x": null,
            "overflow_y": null,
            "padding": null,
            "right": null,
            "top": null,
            "visibility": null,
            "width": null
          }
        },
        "0251e78afa7643b385344c0df5bf0fa1": {
          "model_module": "@jupyter-widgets/controls",
          "model_module_version": "1.5.0",
          "model_name": "FloatProgressModel",
          "state": {
            "_dom_classes": [],
            "_model_module": "@jupyter-widgets/controls",
            "_model_module_version": "1.5.0",
            "_model_name": "FloatProgressModel",
            "_view_count": null,
            "_view_module": "@jupyter-widgets/controls",
            "_view_module_version": "1.5.0",
            "_view_name": "ProgressView",
            "bar_style": "success",
            "description": "",
            "description_tooltip": null,
            "layout": "IPY_MODEL_17885e4c73b24be68114e29959596b30",
            "max": 265,
            "min": 0,
            "orientation": "horizontal",
            "style": "IPY_MODEL_7881bc348d224e31812a53365d0ca977",
            "value": 265
          }
        },
        "03320bce423d4f68a72af6a2f3d237c9": {
          "model_module": "@jupyter-widgets/controls",
          "model_module_version": "1.5.0",
          "model_name": "HTMLModel",
          "state": {
            "_dom_classes": [],
            "_model_module": "@jupyter-widgets/controls",
            "_model_module_version": "1.5.0",
            "_model_name": "HTMLModel",
            "_view_count": null,
            "_view_module": "@jupyter-widgets/controls",
            "_view_module_version": "1.5.0",
            "_view_name": "HTMLView",
            "description": "",
            "description_tooltip": null,
            "layout": "IPY_MODEL_1821bf9a5425410e8b7c3a4fa0980fb8",
            "placeholder": "​",
            "style": "IPY_MODEL_ccc8e90de4b84247914ba007a849ea20",
            "value": "Downloading pytorch_model.bin: 100%"
          }
        },
        "044ea0ba9a6446379229c3df9786dcce": {
          "model_module": "@jupyter-widgets/controls",
          "model_module_version": "1.5.0",
          "model_name": "HBoxModel",
          "state": {
            "_dom_classes": [],
            "_model_module": "@jupyter-widgets/controls",
            "_model_module_version": "1.5.0",
            "_model_name": "HBoxModel",
            "_view_count": null,
            "_view_module": "@jupyter-widgets/controls",
            "_view_module_version": "1.5.0",
            "_view_name": "HBoxView",
            "box_style": "",
            "children": [
              "IPY_MODEL_c02b9e66d7bb4d4997a7083915c48a0b",
              "IPY_MODEL_ced4b1c6454f4f199154ddad20049af7",
              "IPY_MODEL_225ec442e1544c06a277f48d26f818ea"
            ],
            "layout": "IPY_MODEL_3541409c744543a5ae8cd51db63cb771"
          }
        },
        "08e2ac674cfb4a12ab5894cddc7c4f75": {
          "model_module": "@jupyter-widgets/controls",
          "model_module_version": "1.5.0",
          "model_name": "DescriptionStyleModel",
          "state": {
            "_model_module": "@jupyter-widgets/controls",
            "_model_module_version": "1.5.0",
            "_model_name": "DescriptionStyleModel",
            "_view_count": null,
            "_view_module": "@jupyter-widgets/base",
            "_view_module_version": "1.2.0",
            "_view_name": "StyleView",
            "description_width": ""
          }
        },
        "15984a0c6d014fb4877ee13b90ea0d43": {
          "model_module": "@jupyter-widgets/controls",
          "model_module_version": "1.5.0",
          "model_name": "FloatProgressModel",
          "state": {
            "_dom_classes": [],
            "_model_module": "@jupyter-widgets/controls",
            "_model_module_version": "1.5.0",
            "_model_name": "FloatProgressModel",
            "_view_count": null,
            "_view_module": "@jupyter-widgets/controls",
            "_view_module_version": "1.5.0",
            "_view_name": "ProgressView",
            "bar_style": "success",
            "description": "",
            "description_tooltip": null,
            "layout": "IPY_MODEL_db72279aef5f4951944f85eeb892a092",
            "max": 312087009,
            "min": 0,
            "orientation": "horizontal",
            "style": "IPY_MODEL_8039edbfc4314b41ac4440ef78b15795",
            "value": 312087009
          }
        },
        "17885e4c73b24be68114e29959596b30": {
          "model_module": "@jupyter-widgets/base",
          "model_module_version": "1.2.0",
          "model_name": "LayoutModel",
          "state": {
            "_model_module": "@jupyter-widgets/base",
            "_model_module_version": "1.2.0",
            "_model_name": "LayoutModel",
            "_view_count": null,
            "_view_module": "@jupyter-widgets/base",
            "_view_module_version": "1.2.0",
            "_view_name": "LayoutView",
            "align_content": null,
            "align_items": null,
            "align_self": null,
            "border": null,
            "bottom": null,
            "display": null,
            "flex": null,
            "flex_flow": null,
            "grid_area": null,
            "grid_auto_columns": null,
            "grid_auto_flow": null,
            "grid_auto_rows": null,
            "grid_column": null,
            "grid_gap": null,
            "grid_row": null,
            "grid_template_areas": null,
            "grid_template_columns": null,
            "grid_template_rows": null,
            "height": null,
            "justify_content": null,
            "justify_items": null,
            "left": null,
            "margin": null,
            "max_height": null,
            "max_width": null,
            "min_height": null,
            "min_width": null,
            "object_fit": null,
            "object_position": null,
            "order": null,
            "overflow": null,
            "overflow_x": null,
            "overflow_y": null,
            "padding": null,
            "right": null,
            "top": null,
            "visibility": null,
            "width": null
          }
        },
        "1821bf9a5425410e8b7c3a4fa0980fb8": {
          "model_module": "@jupyter-widgets/base",
          "model_module_version": "1.2.0",
          "model_name": "LayoutModel",
          "state": {
            "_model_module": "@jupyter-widgets/base",
            "_model_module_version": "1.2.0",
            "_model_name": "LayoutModel",
            "_view_count": null,
            "_view_module": "@jupyter-widgets/base",
            "_view_module_version": "1.2.0",
            "_view_name": "LayoutView",
            "align_content": null,
            "align_items": null,
            "align_self": null,
            "border": null,
            "bottom": null,
            "display": null,
            "flex": null,
            "flex_flow": null,
            "grid_area": null,
            "grid_auto_columns": null,
            "grid_auto_flow": null,
            "grid_auto_rows": null,
            "grid_column": null,
            "grid_gap": null,
            "grid_row": null,
            "grid_template_areas": null,
            "grid_template_columns": null,
            "grid_template_rows": null,
            "height": null,
            "justify_content": null,
            "justify_items": null,
            "left": null,
            "margin": null,
            "max_height": null,
            "max_width": null,
            "min_height": null,
            "min_width": null,
            "object_fit": null,
            "object_position": null,
            "order": null,
            "overflow": null,
            "overflow_x": null,
            "overflow_y": null,
            "padding": null,
            "right": null,
            "top": null,
            "visibility": null,
            "width": null
          }
        },
        "225ec442e1544c06a277f48d26f818ea": {
          "model_module": "@jupyter-widgets/controls",
          "model_module_version": "1.5.0",
          "model_name": "HTMLModel",
          "state": {
            "_dom_classes": [],
            "_model_module": "@jupyter-widgets/controls",
            "_model_module_version": "1.5.0",
            "_model_name": "HTMLModel",
            "_view_count": null,
            "_view_module": "@jupyter-widgets/controls",
            "_view_module_version": "1.5.0",
            "_view_name": "HTMLView",
            "description": "",
            "description_tooltip": null,
            "layout": "IPY_MODEL_a0abbceaa5114c0d90b955aa80c474a2",
            "placeholder": "​",
            "style": "IPY_MODEL_08e2ac674cfb4a12ab5894cddc7c4f75",
            "value": " 779k/779k [00:00&lt;00:00, 10.1MB/s]"
          }
        },
        "243e7c5755e740068cefbce37d9d9ecc": {
          "model_module": "@jupyter-widgets/controls",
          "model_module_version": "1.5.0",
          "model_name": "DescriptionStyleModel",
          "state": {
            "_model_module": "@jupyter-widgets/controls",
            "_model_module_version": "1.5.0",
            "_model_name": "DescriptionStyleModel",
            "_view_count": null,
            "_view_module": "@jupyter-widgets/base",
            "_view_module_version": "1.2.0",
            "_view_name": "StyleView",
            "description_width": ""
          }
        },
        "27b9b5e98d1b45528c750e940cca4077": {
          "model_module": "@jupyter-widgets/controls",
          "model_module_version": "1.5.0",
          "model_name": "HTMLModel",
          "state": {
            "_dom_classes": [],
            "_model_module": "@jupyter-widgets/controls",
            "_model_module_version": "1.5.0",
            "_model_name": "HTMLModel",
            "_view_count": null,
            "_view_module": "@jupyter-widgets/controls",
            "_view_module_version": "1.5.0",
            "_view_name": "HTMLView",
            "description": "",
            "description_tooltip": null,
            "layout": "IPY_MODEL_fa8fa7a157a041049fc1059784bae74d",
            "placeholder": "​",
            "style": "IPY_MODEL_a05ae7551cf2457886765fb68737a008",
            "value": "Downloading (…)olve/main/vocab.json: 100%"
          }
        },
        "2b407119d7944b52b01afce40d30640e": {
          "model_module": "@jupyter-widgets/controls",
          "model_module_version": "1.5.0",
          "model_name": "HTMLModel",
          "state": {
            "_dom_classes": [],
            "_model_module": "@jupyter-widgets/controls",
            "_model_module_version": "1.5.0",
            "_model_name": "HTMLModel",
            "_view_count": null,
            "_view_module": "@jupyter-widgets/controls",
            "_view_module_version": "1.5.0",
            "_view_name": "HTMLView",
            "description": "",
            "description_tooltip": null,
            "layout": "IPY_MODEL_df30e8dfd8b444419c82638a86df46c3",
            "placeholder": "​",
            "style": "IPY_MODEL_32b47452db3f46528ce6ffbb2c280553",
            "value": " 800k/800k [00:00&lt;00:00, 5.15MB/s]"
          }
        },
        "32b47452db3f46528ce6ffbb2c280553": {
          "model_module": "@jupyter-widgets/controls",
          "model_module_version": "1.5.0",
          "model_name": "DescriptionStyleModel",
          "state": {
            "_model_module": "@jupyter-widgets/controls",
            "_model_module_version": "1.5.0",
            "_model_name": "DescriptionStyleModel",
            "_view_count": null,
            "_view_module": "@jupyter-widgets/base",
            "_view_module_version": "1.2.0",
            "_view_name": "StyleView",
            "description_width": ""
          }
        },
        "3541409c744543a5ae8cd51db63cb771": {
          "model_module": "@jupyter-widgets/base",
          "model_module_version": "1.2.0",
          "model_name": "LayoutModel",
          "state": {
            "_model_module": "@jupyter-widgets/base",
            "_model_module_version": "1.2.0",
            "_model_name": "LayoutModel",
            "_view_count": null,
            "_view_module": "@jupyter-widgets/base",
            "_view_module_version": "1.2.0",
            "_view_name": "LayoutView",
            "align_content": null,
            "align_items": null,
            "align_self": null,
            "border": null,
            "bottom": null,
            "display": null,
            "flex": null,
            "flex_flow": null,
            "grid_area": null,
            "grid_auto_columns": null,
            "grid_auto_flow": null,
            "grid_auto_rows": null,
            "grid_column": null,
            "grid_gap": null,
            "grid_row": null,
            "grid_template_areas": null,
            "grid_template_columns": null,
            "grid_template_rows": null,
            "height": null,
            "justify_content": null,
            "justify_items": null,
            "left": null,
            "margin": null,
            "max_height": null,
            "max_width": null,
            "min_height": null,
            "min_width": null,
            "object_fit": null,
            "object_position": null,
            "order": null,
            "overflow": null,
            "overflow_x": null,
            "overflow_y": null,
            "padding": null,
            "right": null,
            "top": null,
            "visibility": null,
            "width": null
          }
        },
        "3b0dde9b6eee442b8292c88bb76fd0e8": {
          "model_module": "@jupyter-widgets/base",
          "model_module_version": "1.2.0",
          "model_name": "LayoutModel",
          "state": {
            "_model_module": "@jupyter-widgets/base",
            "_model_module_version": "1.2.0",
            "_model_name": "LayoutModel",
            "_view_count": null,
            "_view_module": "@jupyter-widgets/base",
            "_view_module_version": "1.2.0",
            "_view_name": "LayoutView",
            "align_content": null,
            "align_items": null,
            "align_self": null,
            "border": null,
            "bottom": null,
            "display": null,
            "flex": null,
            "flex_flow": null,
            "grid_area": null,
            "grid_auto_columns": null,
            "grid_auto_flow": null,
            "grid_auto_rows": null,
            "grid_column": null,
            "grid_gap": null,
            "grid_row": null,
            "grid_template_areas": null,
            "grid_template_columns": null,
            "grid_template_rows": null,
            "height": null,
            "justify_content": null,
            "justify_items": null,
            "left": null,
            "margin": null,
            "max_height": null,
            "max_width": null,
            "min_height": null,
            "min_width": null,
            "object_fit": null,
            "object_position": null,
            "order": null,
            "overflow": null,
            "overflow_x": null,
            "overflow_y": null,
            "padding": null,
            "right": null,
            "top": null,
            "visibility": null,
            "width": null
          }
        },
        "3b1cfe88f51040ed9657e38623ae8ce3": {
          "model_module": "@jupyter-widgets/controls",
          "model_module_version": "1.5.0",
          "model_name": "HBoxModel",
          "state": {
            "_dom_classes": [],
            "_model_module": "@jupyter-widgets/controls",
            "_model_module_version": "1.5.0",
            "_model_name": "HBoxModel",
            "_view_count": null,
            "_view_module": "@jupyter-widgets/controls",
            "_view_module_version": "1.5.0",
            "_view_name": "HBoxView",
            "box_style": "",
            "children": [
              "IPY_MODEL_27b9b5e98d1b45528c750e940cca4077",
              "IPY_MODEL_7bb30be55d04449fbcefdf36d11e7d91",
              "IPY_MODEL_93055122aa5a468a82733f974d397f95"
            ],
            "layout": "IPY_MODEL_83ff180b3d88480fb23fa7b75966ad17"
          }
        },
        "3b98eb9157ec45608b60d52f6e5a8008": {
          "model_module": "@jupyter-widgets/controls",
          "model_module_version": "1.5.0",
          "model_name": "HBoxModel",
          "state": {
            "_dom_classes": [],
            "_model_module": "@jupyter-widgets/controls",
            "_model_module_version": "1.5.0",
            "_model_name": "HBoxModel",
            "_view_count": null,
            "_view_module": "@jupyter-widgets/controls",
            "_view_module_version": "1.5.0",
            "_view_name": "HBoxView",
            "box_style": "",
            "children": [
              "IPY_MODEL_42a6105ceff1458b803b30b36bc89aec",
              "IPY_MODEL_0251e78afa7643b385344c0df5bf0fa1",
              "IPY_MODEL_5a294e77bac14d39925cf93ecd6172fc"
            ],
            "layout": "IPY_MODEL_916394b821184239bf81145b365805d0"
          }
        },
        "3c4606078108467b923c7934846255d9": {
          "model_module": "@jupyter-widgets/controls",
          "model_module_version": "1.5.0",
          "model_name": "HBoxModel",
          "state": {
            "_dom_classes": [],
            "_model_module": "@jupyter-widgets/controls",
            "_model_module_version": "1.5.0",
            "_model_name": "HBoxModel",
            "_view_count": null,
            "_view_module": "@jupyter-widgets/controls",
            "_view_module_version": "1.5.0",
            "_view_name": "HBoxView",
            "box_style": "",
            "children": [
              "IPY_MODEL_62a9a3c41eea46e7999becc22c0237fc",
              "IPY_MODEL_7e22be99bb094ec495207d8d1cc9de52",
              "IPY_MODEL_2b407119d7944b52b01afce40d30640e"
            ],
            "layout": "IPY_MODEL_5a11a5cddbf647f887bc27c71fe470c0"
          }
        },
        "3f24dfb2952a419897f16ea2c2b1458a": {
          "model_module": "@jupyter-widgets/controls",
          "model_module_version": "1.5.0",
          "model_name": "ProgressStyleModel",
          "state": {
            "_model_module": "@jupyter-widgets/controls",
            "_model_module_version": "1.5.0",
            "_model_name": "ProgressStyleModel",
            "_view_count": null,
            "_view_module": "@jupyter-widgets/base",
            "_view_module_version": "1.2.0",
            "_view_name": "StyleView",
            "bar_color": null,
            "description_width": ""
          }
        },
        "41ef92512b2549e28a835d5e6939b4cd": {
          "model_module": "@jupyter-widgets/base",
          "model_module_version": "1.2.0",
          "model_name": "LayoutModel",
          "state": {
            "_model_module": "@jupyter-widgets/base",
            "_model_module_version": "1.2.0",
            "_model_name": "LayoutModel",
            "_view_count": null,
            "_view_module": "@jupyter-widgets/base",
            "_view_module_version": "1.2.0",
            "_view_name": "LayoutView",
            "align_content": null,
            "align_items": null,
            "align_self": null,
            "border": null,
            "bottom": null,
            "display": null,
            "flex": null,
            "flex_flow": null,
            "grid_area": null,
            "grid_auto_columns": null,
            "grid_auto_flow": null,
            "grid_auto_rows": null,
            "grid_column": null,
            "grid_gap": null,
            "grid_row": null,
            "grid_template_areas": null,
            "grid_template_columns": null,
            "grid_template_rows": null,
            "height": null,
            "justify_content": null,
            "justify_items": null,
            "left": null,
            "margin": null,
            "max_height": null,
            "max_width": null,
            "min_height": null,
            "min_width": null,
            "object_fit": null,
            "object_position": null,
            "order": null,
            "overflow": null,
            "overflow_x": null,
            "overflow_y": null,
            "padding": null,
            "right": null,
            "top": null,
            "visibility": null,
            "width": null
          }
        },
        "42a6105ceff1458b803b30b36bc89aec": {
          "model_module": "@jupyter-widgets/controls",
          "model_module_version": "1.5.0",
          "model_name": "HTMLModel",
          "state": {
            "_dom_classes": [],
            "_model_module": "@jupyter-widgets/controls",
            "_model_module_version": "1.5.0",
            "_model_name": "HTMLModel",
            "_view_count": null,
            "_view_module": "@jupyter-widgets/controls",
            "_view_module_version": "1.5.0",
            "_view_name": "HTMLView",
            "description": "",
            "description_tooltip": null,
            "layout": "IPY_MODEL_ae675ad545874b95a88907ab24cc4c50",
            "placeholder": "​",
            "style": "IPY_MODEL_4da85bf6dbd04820af2273e5263cca77",
            "value": "Downloading (…)okenizer_config.json: 100%"
          }
        },
        "47199762684c4c51869f12154966f341": {
          "model_module": "@jupyter-widgets/base",
          "model_module_version": "1.2.0",
          "model_name": "LayoutModel",
          "state": {
            "_model_module": "@jupyter-widgets/base",
            "_model_module_version": "1.2.0",
            "_model_name": "LayoutModel",
            "_view_count": null,
            "_view_module": "@jupyter-widgets/base",
            "_view_module_version": "1.2.0",
            "_view_name": "LayoutView",
            "align_content": null,
            "align_items": null,
            "align_self": null,
            "border": null,
            "bottom": null,
            "display": null,
            "flex": null,
            "flex_flow": null,
            "grid_area": null,
            "grid_auto_columns": null,
            "grid_auto_flow": null,
            "grid_auto_rows": null,
            "grid_column": null,
            "grid_gap": null,
            "grid_row": null,
            "grid_template_areas": null,
            "grid_template_columns": null,
            "grid_template_rows": null,
            "height": null,
            "justify_content": null,
            "justify_items": null,
            "left": null,
            "margin": null,
            "max_height": null,
            "max_width": null,
            "min_height": null,
            "min_width": null,
            "object_fit": null,
            "object_position": null,
            "order": null,
            "overflow": null,
            "overflow_x": null,
            "overflow_y": null,
            "padding": null,
            "right": null,
            "top": null,
            "visibility": null,
            "width": null
          }
        },
        "47c8b8a6f7e54953a7231a4577c6dbaa": {
          "model_module": "@jupyter-widgets/controls",
          "model_module_version": "1.5.0",
          "model_name": "DescriptionStyleModel",
          "state": {
            "_model_module": "@jupyter-widgets/controls",
            "_model_module_version": "1.5.0",
            "_model_name": "DescriptionStyleModel",
            "_view_count": null,
            "_view_module": "@jupyter-widgets/base",
            "_view_module_version": "1.2.0",
            "_view_name": "StyleView",
            "description_width": ""
          }
        },
        "4da85bf6dbd04820af2273e5263cca77": {
          "model_module": "@jupyter-widgets/controls",
          "model_module_version": "1.5.0",
          "model_name": "DescriptionStyleModel",
          "state": {
            "_model_module": "@jupyter-widgets/controls",
            "_model_module_version": "1.5.0",
            "_model_name": "DescriptionStyleModel",
            "_view_count": null,
            "_view_module": "@jupyter-widgets/base",
            "_view_module_version": "1.2.0",
            "_view_name": "StyleView",
            "description_width": ""
          }
        },
        "4ec9dcffe0d94eff86f37b099bf25c3b": {
          "model_module": "@jupyter-widgets/base",
          "model_module_version": "1.2.0",
          "model_name": "LayoutModel",
          "state": {
            "_model_module": "@jupyter-widgets/base",
            "_model_module_version": "1.2.0",
            "_model_name": "LayoutModel",
            "_view_count": null,
            "_view_module": "@jupyter-widgets/base",
            "_view_module_version": "1.2.0",
            "_view_name": "LayoutView",
            "align_content": null,
            "align_items": null,
            "align_self": null,
            "border": null,
            "bottom": null,
            "display": null,
            "flex": null,
            "flex_flow": null,
            "grid_area": null,
            "grid_auto_columns": null,
            "grid_auto_flow": null,
            "grid_auto_rows": null,
            "grid_column": null,
            "grid_gap": null,
            "grid_row": null,
            "grid_template_areas": null,
            "grid_template_columns": null,
            "grid_template_rows": null,
            "height": null,
            "justify_content": null,
            "justify_items": null,
            "left": null,
            "margin": null,
            "max_height": null,
            "max_width": null,
            "min_height": null,
            "min_width": null,
            "object_fit": null,
            "object_position": null,
            "order": null,
            "overflow": null,
            "overflow_x": null,
            "overflow_y": null,
            "padding": null,
            "right": null,
            "top": null,
            "visibility": null,
            "width": null
          }
        },
        "4fdf680c857f40e8bc2d2d7c467d0f28": {
          "model_module": "@jupyter-widgets/controls",
          "model_module_version": "1.5.0",
          "model_name": "ProgressStyleModel",
          "state": {
            "_model_module": "@jupyter-widgets/controls",
            "_model_module_version": "1.5.0",
            "_model_name": "ProgressStyleModel",
            "_view_count": null,
            "_view_module": "@jupyter-widgets/base",
            "_view_module_version": "1.2.0",
            "_view_name": "StyleView",
            "bar_color": null,
            "description_width": ""
          }
        },
        "5096ed020dd64a83b939e77a345d2dcf": {
          "model_module": "@jupyter-widgets/controls",
          "model_module_version": "1.5.0",
          "model_name": "FloatProgressModel",
          "state": {
            "_dom_classes": [],
            "_model_module": "@jupyter-widgets/controls",
            "_model_module_version": "1.5.0",
            "_model_name": "FloatProgressModel",
            "_view_count": null,
            "_view_module": "@jupyter-widgets/controls",
            "_view_module_version": "1.5.0",
            "_view_name": "ProgressView",
            "bar_style": "success",
            "description": "",
            "description_tooltip": null,
            "layout": "IPY_MODEL_b45a9ee18c7a4cc48093436ad2b80796",
            "max": 293,
            "min": 0,
            "orientation": "horizontal",
            "style": "IPY_MODEL_6755d688e78e498bb6c1e58488d691c0",
            "value": 293
          }
        },
        "5132ee7490304732914c4e7cab1d753a": {
          "model_module": "@jupyter-widgets/base",
          "model_module_version": "1.2.0",
          "model_name": "LayoutModel",
          "state": {
            "_model_module": "@jupyter-widgets/base",
            "_model_module_version": "1.2.0",
            "_model_name": "LayoutModel",
            "_view_count": null,
            "_view_module": "@jupyter-widgets/base",
            "_view_module_version": "1.2.0",
            "_view_name": "LayoutView",
            "align_content": null,
            "align_items": null,
            "align_self": null,
            "border": null,
            "bottom": null,
            "display": null,
            "flex": null,
            "flex_flow": null,
            "grid_area": null,
            "grid_auto_columns": null,
            "grid_auto_flow": null,
            "grid_auto_rows": null,
            "grid_column": null,
            "grid_gap": null,
            "grid_row": null,
            "grid_template_areas": null,
            "grid_template_columns": null,
            "grid_template_rows": null,
            "height": null,
            "justify_content": null,
            "justify_items": null,
            "left": null,
            "margin": null,
            "max_height": null,
            "max_width": null,
            "min_height": null,
            "min_width": null,
            "object_fit": null,
            "object_position": null,
            "order": null,
            "overflow": null,
            "overflow_x": null,
            "overflow_y": null,
            "padding": null,
            "right": null,
            "top": null,
            "visibility": null,
            "width": null
          }
        },
        "535281dfcd474b2dbee4788806756597": {
          "model_module": "@jupyter-widgets/base",
          "model_module_version": "1.2.0",
          "model_name": "LayoutModel",
          "state": {
            "_model_module": "@jupyter-widgets/base",
            "_model_module_version": "1.2.0",
            "_model_name": "LayoutModel",
            "_view_count": null,
            "_view_module": "@jupyter-widgets/base",
            "_view_module_version": "1.2.0",
            "_view_name": "LayoutView",
            "align_content": null,
            "align_items": null,
            "align_self": null,
            "border": null,
            "bottom": null,
            "display": null,
            "flex": null,
            "flex_flow": null,
            "grid_area": null,
            "grid_auto_columns": null,
            "grid_auto_flow": null,
            "grid_auto_rows": null,
            "grid_column": null,
            "grid_gap": null,
            "grid_row": null,
            "grid_template_areas": null,
            "grid_template_columns": null,
            "grid_template_rows": null,
            "height": null,
            "justify_content": null,
            "justify_items": null,
            "left": null,
            "margin": null,
            "max_height": null,
            "max_width": null,
            "min_height": null,
            "min_width": null,
            "object_fit": null,
            "object_position": null,
            "order": null,
            "overflow": null,
            "overflow_x": null,
            "overflow_y": null,
            "padding": null,
            "right": null,
            "top": null,
            "visibility": null,
            "width": null
          }
        },
        "54e482dfd1d540108a69fd8e0a48c154": {
          "model_module": "@jupyter-widgets/base",
          "model_module_version": "1.2.0",
          "model_name": "LayoutModel",
          "state": {
            "_model_module": "@jupyter-widgets/base",
            "_model_module_version": "1.2.0",
            "_model_name": "LayoutModel",
            "_view_count": null,
            "_view_module": "@jupyter-widgets/base",
            "_view_module_version": "1.2.0",
            "_view_name": "LayoutView",
            "align_content": null,
            "align_items": null,
            "align_self": null,
            "border": null,
            "bottom": null,
            "display": null,
            "flex": null,
            "flex_flow": null,
            "grid_area": null,
            "grid_auto_columns": null,
            "grid_auto_flow": null,
            "grid_auto_rows": null,
            "grid_column": null,
            "grid_gap": null,
            "grid_row": null,
            "grid_template_areas": null,
            "grid_template_columns": null,
            "grid_template_rows": null,
            "height": null,
            "justify_content": null,
            "justify_items": null,
            "left": null,
            "margin": null,
            "max_height": null,
            "max_width": null,
            "min_height": null,
            "min_width": null,
            "object_fit": null,
            "object_position": null,
            "order": null,
            "overflow": null,
            "overflow_x": null,
            "overflow_y": null,
            "padding": null,
            "right": null,
            "top": null,
            "visibility": null,
            "width": null
          }
        },
        "595ede063ab34651a33f94a25aec2347": {
          "model_module": "@jupyter-widgets/controls",
          "model_module_version": "1.5.0",
          "model_name": "HTMLModel",
          "state": {
            "_dom_classes": [],
            "_model_module": "@jupyter-widgets/controls",
            "_model_module_version": "1.5.0",
            "_model_name": "HTMLModel",
            "_view_count": null,
            "_view_module": "@jupyter-widgets/controls",
            "_view_module_version": "1.5.0",
            "_view_name": "HTMLView",
            "description": "",
            "description_tooltip": null,
            "layout": "IPY_MODEL_535281dfcd474b2dbee4788806756597",
            "placeholder": "​",
            "style": "IPY_MODEL_47c8b8a6f7e54953a7231a4577c6dbaa",
            "value": "Downloading (…)lve/main/config.json: 100%"
          }
        },
        "5a11a5cddbf647f887bc27c71fe470c0": {
          "model_module": "@jupyter-widgets/base",
          "model_module_version": "1.2.0",
          "model_name": "LayoutModel",
          "state": {
            "_model_module": "@jupyter-widgets/base",
            "_model_module_version": "1.2.0",
            "_model_name": "LayoutModel",
            "_view_count": null,
            "_view_module": "@jupyter-widgets/base",
            "_view_module_version": "1.2.0",
            "_view_name": "LayoutView",
            "align_content": null,
            "align_items": null,
            "align_self": null,
            "border": null,
            "bottom": null,
            "display": null,
            "flex": null,
            "flex_flow": null,
            "grid_area": null,
            "grid_auto_columns": null,
            "grid_auto_flow": null,
            "grid_auto_rows": null,
            "grid_column": null,
            "grid_gap": null,
            "grid_row": null,
            "grid_template_areas": null,
            "grid_template_columns": null,
            "grid_template_rows": null,
            "height": null,
            "justify_content": null,
            "justify_items": null,
            "left": null,
            "margin": null,
            "max_height": null,
            "max_width": null,
            "min_height": null,
            "min_width": null,
            "object_fit": null,
            "object_position": null,
            "order": null,
            "overflow": null,
            "overflow_x": null,
            "overflow_y": null,
            "padding": null,
            "right": null,
            "top": null,
            "visibility": null,
            "width": null
          }
        },
        "5a294e77bac14d39925cf93ecd6172fc": {
          "model_module": "@jupyter-widgets/controls",
          "model_module_version": "1.5.0",
          "model_name": "HTMLModel",
          "state": {
            "_dom_classes": [],
            "_model_module": "@jupyter-widgets/controls",
            "_model_module_version": "1.5.0",
            "_model_name": "HTMLModel",
            "_view_count": null,
            "_view_module": "@jupyter-widgets/controls",
            "_view_module_version": "1.5.0",
            "_view_name": "HTMLView",
            "description": "",
            "description_tooltip": null,
            "layout": "IPY_MODEL_ce4a3739863743f1a33ce23b5a041c65",
            "placeholder": "​",
            "style": "IPY_MODEL_be4e4c980ef74c6bb7aaf9d3d53ca3a5",
            "value": " 265/265 [00:00&lt;00:00, 5.23kB/s]"
          }
        },
        "5f92233310164ab58afbe1ac07c37c29": {
          "model_module": "@jupyter-widgets/controls",
          "model_module_version": "1.5.0",
          "model_name": "DescriptionStyleModel",
          "state": {
            "_model_module": "@jupyter-widgets/controls",
            "_model_module_version": "1.5.0",
            "_model_name": "DescriptionStyleModel",
            "_view_count": null,
            "_view_module": "@jupyter-widgets/base",
            "_view_module_version": "1.2.0",
            "_view_name": "StyleView",
            "description_width": ""
          }
        },
        "62a9a3c41eea46e7999becc22c0237fc": {
          "model_module": "@jupyter-widgets/controls",
          "model_module_version": "1.5.0",
          "model_name": "HTMLModel",
          "state": {
            "_dom_classes": [],
            "_model_module": "@jupyter-widgets/controls",
            "_model_module_version": "1.5.0",
            "_model_name": "HTMLModel",
            "_view_count": null,
            "_view_module": "@jupyter-widgets/controls",
            "_view_module_version": "1.5.0",
            "_view_name": "HTMLView",
            "description": "",
            "description_tooltip": null,
            "layout": "IPY_MODEL_54e482dfd1d540108a69fd8e0a48c154",
            "placeholder": "​",
            "style": "IPY_MODEL_c6e76f699ecc409dadb6c1336aa4ea16",
            "value": "Downloading (…)olve/main/source.spm: 100%"
          }
        },
        "65356353e7a14b2f8791351cdffc700f": {
          "model_module": "@jupyter-widgets/controls",
          "model_module_version": "1.5.0",
          "model_name": "HBoxModel",
          "state": {
            "_dom_classes": [],
            "_model_module": "@jupyter-widgets/controls",
            "_model_module_version": "1.5.0",
            "_model_name": "HBoxModel",
            "_view_count": null,
            "_view_module": "@jupyter-widgets/controls",
            "_view_module_version": "1.5.0",
            "_view_name": "HBoxView",
            "box_style": "",
            "children": [
              "IPY_MODEL_595ede063ab34651a33f94a25aec2347",
              "IPY_MODEL_f813b2a9a64447b09614709afd7013a8",
              "IPY_MODEL_b0cdf3a6a7754a3f96c42791db1620b7"
            ],
            "layout": "IPY_MODEL_79f27e2227ac49659cd4b67606b3ef6e"
          }
        },
        "6755d688e78e498bb6c1e58488d691c0": {
          "model_module": "@jupyter-widgets/controls",
          "model_module_version": "1.5.0",
          "model_name": "ProgressStyleModel",
          "state": {
            "_model_module": "@jupyter-widgets/controls",
            "_model_module_version": "1.5.0",
            "_model_name": "ProgressStyleModel",
            "_view_count": null,
            "_view_module": "@jupyter-widgets/base",
            "_view_module_version": "1.2.0",
            "_view_name": "StyleView",
            "bar_color": null,
            "description_width": ""
          }
        },
        "6c6c78f8249848989f6f3fdb0b61670e": {
          "model_module": "@jupyter-widgets/controls",
          "model_module_version": "1.5.0",
          "model_name": "DescriptionStyleModel",
          "state": {
            "_model_module": "@jupyter-widgets/controls",
            "_model_module_version": "1.5.0",
            "_model_name": "DescriptionStyleModel",
            "_view_count": null,
            "_view_module": "@jupyter-widgets/base",
            "_view_module_version": "1.2.0",
            "_view_name": "StyleView",
            "description_width": ""
          }
        },
        "72d94e915a2c4f03b48c92f5469231fc": {
          "model_module": "@jupyter-widgets/base",
          "model_module_version": "1.2.0",
          "model_name": "LayoutModel",
          "state": {
            "_model_module": "@jupyter-widgets/base",
            "_model_module_version": "1.2.0",
            "_model_name": "LayoutModel",
            "_view_count": null,
            "_view_module": "@jupyter-widgets/base",
            "_view_module_version": "1.2.0",
            "_view_name": "LayoutView",
            "align_content": null,
            "align_items": null,
            "align_self": null,
            "border": null,
            "bottom": null,
            "display": null,
            "flex": null,
            "flex_flow": null,
            "grid_area": null,
            "grid_auto_columns": null,
            "grid_auto_flow": null,
            "grid_auto_rows": null,
            "grid_column": null,
            "grid_gap": null,
            "grid_row": null,
            "grid_template_areas": null,
            "grid_template_columns": null,
            "grid_template_rows": null,
            "height": null,
            "justify_content": null,
            "justify_items": null,
            "left": null,
            "margin": null,
            "max_height": null,
            "max_width": null,
            "min_height": null,
            "min_width": null,
            "object_fit": null,
            "object_position": null,
            "order": null,
            "overflow": null,
            "overflow_x": null,
            "overflow_y": null,
            "padding": null,
            "right": null,
            "top": null,
            "visibility": null,
            "width": null
          }
        },
        "7309a9be4b034c08b950a7df51622066": {
          "model_module": "@jupyter-widgets/base",
          "model_module_version": "1.2.0",
          "model_name": "LayoutModel",
          "state": {
            "_model_module": "@jupyter-widgets/base",
            "_model_module_version": "1.2.0",
            "_model_name": "LayoutModel",
            "_view_count": null,
            "_view_module": "@jupyter-widgets/base",
            "_view_module_version": "1.2.0",
            "_view_name": "LayoutView",
            "align_content": null,
            "align_items": null,
            "align_self": null,
            "border": null,
            "bottom": null,
            "display": null,
            "flex": null,
            "flex_flow": null,
            "grid_area": null,
            "grid_auto_columns": null,
            "grid_auto_flow": null,
            "grid_auto_rows": null,
            "grid_column": null,
            "grid_gap": null,
            "grid_row": null,
            "grid_template_areas": null,
            "grid_template_columns": null,
            "grid_template_rows": null,
            "height": null,
            "justify_content": null,
            "justify_items": null,
            "left": null,
            "margin": null,
            "max_height": null,
            "max_width": null,
            "min_height": null,
            "min_width": null,
            "object_fit": null,
            "object_position": null,
            "order": null,
            "overflow": null,
            "overflow_x": null,
            "overflow_y": null,
            "padding": null,
            "right": null,
            "top": null,
            "visibility": null,
            "width": null
          }
        },
        "738b27867d234dc1be8c268e6ca1f1e8": {
          "model_module": "@jupyter-widgets/controls",
          "model_module_version": "1.5.0",
          "model_name": "HTMLModel",
          "state": {
            "_dom_classes": [],
            "_model_module": "@jupyter-widgets/controls",
            "_model_module_version": "1.5.0",
            "_model_name": "HTMLModel",
            "_view_count": null,
            "_view_module": "@jupyter-widgets/controls",
            "_view_module_version": "1.5.0",
            "_view_name": "HTMLView",
            "description": "",
            "description_tooltip": null,
            "layout": "IPY_MODEL_7309a9be4b034c08b950a7df51622066",
            "placeholder": "​",
            "style": "IPY_MODEL_e32918a0d0a44eeea1d9d7ba900d5524",
            "value": "Downloading (…)neration_config.json: 100%"
          }
        },
        "7881bc348d224e31812a53365d0ca977": {
          "model_module": "@jupyter-widgets/controls",
          "model_module_version": "1.5.0",
          "model_name": "ProgressStyleModel",
          "state": {
            "_model_module": "@jupyter-widgets/controls",
            "_model_module_version": "1.5.0",
            "_model_name": "ProgressStyleModel",
            "_view_count": null,
            "_view_module": "@jupyter-widgets/base",
            "_view_module_version": "1.2.0",
            "_view_name": "StyleView",
            "bar_color": null,
            "description_width": ""
          }
        },
        "79f27e2227ac49659cd4b67606b3ef6e": {
          "model_module": "@jupyter-widgets/base",
          "model_module_version": "1.2.0",
          "model_name": "LayoutModel",
          "state": {
            "_model_module": "@jupyter-widgets/base",
            "_model_module_version": "1.2.0",
            "_model_name": "LayoutModel",
            "_view_count": null,
            "_view_module": "@jupyter-widgets/base",
            "_view_module_version": "1.2.0",
            "_view_name": "LayoutView",
            "align_content": null,
            "align_items": null,
            "align_self": null,
            "border": null,
            "bottom": null,
            "display": null,
            "flex": null,
            "flex_flow": null,
            "grid_area": null,
            "grid_auto_columns": null,
            "grid_auto_flow": null,
            "grid_auto_rows": null,
            "grid_column": null,
            "grid_gap": null,
            "grid_row": null,
            "grid_template_areas": null,
            "grid_template_columns": null,
            "grid_template_rows": null,
            "height": null,
            "justify_content": null,
            "justify_items": null,
            "left": null,
            "margin": null,
            "max_height": null,
            "max_width": null,
            "min_height": null,
            "min_width": null,
            "object_fit": null,
            "object_position": null,
            "order": null,
            "overflow": null,
            "overflow_x": null,
            "overflow_y": null,
            "padding": null,
            "right": null,
            "top": null,
            "visibility": null,
            "width": null
          }
        },
        "7bb30be55d04449fbcefdf36d11e7d91": {
          "model_module": "@jupyter-widgets/controls",
          "model_module_version": "1.5.0",
          "model_name": "FloatProgressModel",
          "state": {
            "_dom_classes": [],
            "_model_module": "@jupyter-widgets/controls",
            "_model_module_version": "1.5.0",
            "_model_name": "FloatProgressModel",
            "_view_count": null,
            "_view_module": "@jupyter-widgets/controls",
            "_view_module_version": "1.5.0",
            "_view_name": "ProgressView",
            "bar_style": "success",
            "description": "",
            "description_tooltip": null,
            "layout": "IPY_MODEL_a822f301991a4216a8b22ceae06eb684",
            "max": 1460304,
            "min": 0,
            "orientation": "horizontal",
            "style": "IPY_MODEL_b2d36bbd6da34a1b9f459414e948d9a1",
            "value": 1460304
          }
        },
        "7bb77ebcb17b49e18050a6666ee61093": {
          "model_module": "@jupyter-widgets/base",
          "model_module_version": "1.2.0",
          "model_name": "LayoutModel",
          "state": {
            "_model_module": "@jupyter-widgets/base",
            "_model_module_version": "1.2.0",
            "_model_name": "LayoutModel",
            "_view_count": null,
            "_view_module": "@jupyter-widgets/base",
            "_view_module_version": "1.2.0",
            "_view_name": "LayoutView",
            "align_content": null,
            "align_items": null,
            "align_self": null,
            "border": null,
            "bottom": null,
            "display": null,
            "flex": null,
            "flex_flow": null,
            "grid_area": null,
            "grid_auto_columns": null,
            "grid_auto_flow": null,
            "grid_auto_rows": null,
            "grid_column": null,
            "grid_gap": null,
            "grid_row": null,
            "grid_template_areas": null,
            "grid_template_columns": null,
            "grid_template_rows": null,
            "height": null,
            "justify_content": null,
            "justify_items": null,
            "left": null,
            "margin": null,
            "max_height": null,
            "max_width": null,
            "min_height": null,
            "min_width": null,
            "object_fit": null,
            "object_position": null,
            "order": null,
            "overflow": null,
            "overflow_x": null,
            "overflow_y": null,
            "padding": null,
            "right": null,
            "top": null,
            "visibility": null,
            "width": null
          }
        },
        "7e22be99bb094ec495207d8d1cc9de52": {
          "model_module": "@jupyter-widgets/controls",
          "model_module_version": "1.5.0",
          "model_name": "FloatProgressModel",
          "state": {
            "_dom_classes": [],
            "_model_module": "@jupyter-widgets/controls",
            "_model_module_version": "1.5.0",
            "_model_name": "FloatProgressModel",
            "_view_count": null,
            "_view_module": "@jupyter-widgets/controls",
            "_view_module_version": "1.5.0",
            "_view_name": "ProgressView",
            "bar_style": "success",
            "description": "",
            "description_tooltip": null,
            "layout": "IPY_MODEL_4ec9dcffe0d94eff86f37b099bf25c3b",
            "max": 800087,
            "min": 0,
            "orientation": "horizontal",
            "style": "IPY_MODEL_fbc3a019caae4c2f8b4538b460121799",
            "value": 800087
          }
        },
        "8039edbfc4314b41ac4440ef78b15795": {
          "model_module": "@jupyter-widgets/controls",
          "model_module_version": "1.5.0",
          "model_name": "ProgressStyleModel",
          "state": {
            "_model_module": "@jupyter-widgets/controls",
            "_model_module_version": "1.5.0",
            "_model_name": "ProgressStyleModel",
            "_view_count": null,
            "_view_module": "@jupyter-widgets/base",
            "_view_module_version": "1.2.0",
            "_view_name": "StyleView",
            "bar_color": null,
            "description_width": ""
          }
        },
        "80b0ea229af44c8593cf4153874e943c": {
          "model_module": "@jupyter-widgets/base",
          "model_module_version": "1.2.0",
          "model_name": "LayoutModel",
          "state": {
            "_model_module": "@jupyter-widgets/base",
            "_model_module_version": "1.2.0",
            "_model_name": "LayoutModel",
            "_view_count": null,
            "_view_module": "@jupyter-widgets/base",
            "_view_module_version": "1.2.0",
            "_view_name": "LayoutView",
            "align_content": null,
            "align_items": null,
            "align_self": null,
            "border": null,
            "bottom": null,
            "display": null,
            "flex": null,
            "flex_flow": null,
            "grid_area": null,
            "grid_auto_columns": null,
            "grid_auto_flow": null,
            "grid_auto_rows": null,
            "grid_column": null,
            "grid_gap": null,
            "grid_row": null,
            "grid_template_areas": null,
            "grid_template_columns": null,
            "grid_template_rows": null,
            "height": null,
            "justify_content": null,
            "justify_items": null,
            "left": null,
            "margin": null,
            "max_height": null,
            "max_width": null,
            "min_height": null,
            "min_width": null,
            "object_fit": null,
            "object_position": null,
            "order": null,
            "overflow": null,
            "overflow_x": null,
            "overflow_y": null,
            "padding": null,
            "right": null,
            "top": null,
            "visibility": null,
            "width": null
          }
        },
        "83ff180b3d88480fb23fa7b75966ad17": {
          "model_module": "@jupyter-widgets/base",
          "model_module_version": "1.2.0",
          "model_name": "LayoutModel",
          "state": {
            "_model_module": "@jupyter-widgets/base",
            "_model_module_version": "1.2.0",
            "_model_name": "LayoutModel",
            "_view_count": null,
            "_view_module": "@jupyter-widgets/base",
            "_view_module_version": "1.2.0",
            "_view_name": "LayoutView",
            "align_content": null,
            "align_items": null,
            "align_self": null,
            "border": null,
            "bottom": null,
            "display": null,
            "flex": null,
            "flex_flow": null,
            "grid_area": null,
            "grid_auto_columns": null,
            "grid_auto_flow": null,
            "grid_auto_rows": null,
            "grid_column": null,
            "grid_gap": null,
            "grid_row": null,
            "grid_template_areas": null,
            "grid_template_columns": null,
            "grid_template_rows": null,
            "height": null,
            "justify_content": null,
            "justify_items": null,
            "left": null,
            "margin": null,
            "max_height": null,
            "max_width": null,
            "min_height": null,
            "min_width": null,
            "object_fit": null,
            "object_position": null,
            "order": null,
            "overflow": null,
            "overflow_x": null,
            "overflow_y": null,
            "padding": null,
            "right": null,
            "top": null,
            "visibility": null,
            "width": null
          }
        },
        "84cfeb823a144e19809858b308d97b7d": {
          "model_module": "@jupyter-widgets/controls",
          "model_module_version": "1.5.0",
          "model_name": "HTMLModel",
          "state": {
            "_dom_classes": [],
            "_model_module": "@jupyter-widgets/controls",
            "_model_module_version": "1.5.0",
            "_model_name": "HTMLModel",
            "_view_count": null,
            "_view_module": "@jupyter-widgets/controls",
            "_view_module_version": "1.5.0",
            "_view_name": "HTMLView",
            "description": "",
            "description_tooltip": null,
            "layout": "IPY_MODEL_7bb77ebcb17b49e18050a6666ee61093",
            "placeholder": "​",
            "style": "IPY_MODEL_243e7c5755e740068cefbce37d9d9ecc",
            "value": " 293/293 [00:00&lt;00:00, 18.9kB/s]"
          }
        },
        "916394b821184239bf81145b365805d0": {
          "model_module": "@jupyter-widgets/base",
          "model_module_version": "1.2.0",
          "model_name": "LayoutModel",
          "state": {
            "_model_module": "@jupyter-widgets/base",
            "_model_module_version": "1.2.0",
            "_model_name": "LayoutModel",
            "_view_count": null,
            "_view_module": "@jupyter-widgets/base",
            "_view_module_version": "1.2.0",
            "_view_name": "LayoutView",
            "align_content": null,
            "align_items": null,
            "align_self": null,
            "border": null,
            "bottom": null,
            "display": null,
            "flex": null,
            "flex_flow": null,
            "grid_area": null,
            "grid_auto_columns": null,
            "grid_auto_flow": null,
            "grid_auto_rows": null,
            "grid_column": null,
            "grid_gap": null,
            "grid_row": null,
            "grid_template_areas": null,
            "grid_template_columns": null,
            "grid_template_rows": null,
            "height": null,
            "justify_content": null,
            "justify_items": null,
            "left": null,
            "margin": null,
            "max_height": null,
            "max_width": null,
            "min_height": null,
            "min_width": null,
            "object_fit": null,
            "object_position": null,
            "order": null,
            "overflow": null,
            "overflow_x": null,
            "overflow_y": null,
            "padding": null,
            "right": null,
            "top": null,
            "visibility": null,
            "width": null
          }
        },
        "93055122aa5a468a82733f974d397f95": {
          "model_module": "@jupyter-widgets/controls",
          "model_module_version": "1.5.0",
          "model_name": "HTMLModel",
          "state": {
            "_dom_classes": [],
            "_model_module": "@jupyter-widgets/controls",
            "_model_module_version": "1.5.0",
            "_model_name": "HTMLModel",
            "_view_count": null,
            "_view_module": "@jupyter-widgets/controls",
            "_view_module_version": "1.5.0",
            "_view_name": "HTMLView",
            "description": "",
            "description_tooltip": null,
            "layout": "IPY_MODEL_72d94e915a2c4f03b48c92f5469231fc",
            "placeholder": "​",
            "style": "IPY_MODEL_daf932f47097416dad7824557046c4f6",
            "value": " 1.46M/1.46M [00:00&lt;00:00, 17.4MB/s]"
          }
        },
        "a05ae7551cf2457886765fb68737a008": {
          "model_module": "@jupyter-widgets/controls",
          "model_module_version": "1.5.0",
          "model_name": "DescriptionStyleModel",
          "state": {
            "_model_module": "@jupyter-widgets/controls",
            "_model_module_version": "1.5.0",
            "_model_name": "DescriptionStyleModel",
            "_view_count": null,
            "_view_module": "@jupyter-widgets/base",
            "_view_module_version": "1.2.0",
            "_view_name": "StyleView",
            "description_width": ""
          }
        },
        "a0abbceaa5114c0d90b955aa80c474a2": {
          "model_module": "@jupyter-widgets/base",
          "model_module_version": "1.2.0",
          "model_name": "LayoutModel",
          "state": {
            "_model_module": "@jupyter-widgets/base",
            "_model_module_version": "1.2.0",
            "_model_name": "LayoutModel",
            "_view_count": null,
            "_view_module": "@jupyter-widgets/base",
            "_view_module_version": "1.2.0",
            "_view_name": "LayoutView",
            "align_content": null,
            "align_items": null,
            "align_self": null,
            "border": null,
            "bottom": null,
            "display": null,
            "flex": null,
            "flex_flow": null,
            "grid_area": null,
            "grid_auto_columns": null,
            "grid_auto_flow": null,
            "grid_auto_rows": null,
            "grid_column": null,
            "grid_gap": null,
            "grid_row": null,
            "grid_template_areas": null,
            "grid_template_columns": null,
            "grid_template_rows": null,
            "height": null,
            "justify_content": null,
            "justify_items": null,
            "left": null,
            "margin": null,
            "max_height": null,
            "max_width": null,
            "min_height": null,
            "min_width": null,
            "object_fit": null,
            "object_position": null,
            "order": null,
            "overflow": null,
            "overflow_x": null,
            "overflow_y": null,
            "padding": null,
            "right": null,
            "top": null,
            "visibility": null,
            "width": null
          }
        },
        "a822f301991a4216a8b22ceae06eb684": {
          "model_module": "@jupyter-widgets/base",
          "model_module_version": "1.2.0",
          "model_name": "LayoutModel",
          "state": {
            "_model_module": "@jupyter-widgets/base",
            "_model_module_version": "1.2.0",
            "_model_name": "LayoutModel",
            "_view_count": null,
            "_view_module": "@jupyter-widgets/base",
            "_view_module_version": "1.2.0",
            "_view_name": "LayoutView",
            "align_content": null,
            "align_items": null,
            "align_self": null,
            "border": null,
            "bottom": null,
            "display": null,
            "flex": null,
            "flex_flow": null,
            "grid_area": null,
            "grid_auto_columns": null,
            "grid_auto_flow": null,
            "grid_auto_rows": null,
            "grid_column": null,
            "grid_gap": null,
            "grid_row": null,
            "grid_template_areas": null,
            "grid_template_columns": null,
            "grid_template_rows": null,
            "height": null,
            "justify_content": null,
            "justify_items": null,
            "left": null,
            "margin": null,
            "max_height": null,
            "max_width": null,
            "min_height": null,
            "min_width": null,
            "object_fit": null,
            "object_position": null,
            "order": null,
            "overflow": null,
            "overflow_x": null,
            "overflow_y": null,
            "padding": null,
            "right": null,
            "top": null,
            "visibility": null,
            "width": null
          }
        },
        "ae675ad545874b95a88907ab24cc4c50": {
          "model_module": "@jupyter-widgets/base",
          "model_module_version": "1.2.0",
          "model_name": "LayoutModel",
          "state": {
            "_model_module": "@jupyter-widgets/base",
            "_model_module_version": "1.2.0",
            "_model_name": "LayoutModel",
            "_view_count": null,
            "_view_module": "@jupyter-widgets/base",
            "_view_module_version": "1.2.0",
            "_view_name": "LayoutView",
            "align_content": null,
            "align_items": null,
            "align_self": null,
            "border": null,
            "bottom": null,
            "display": null,
            "flex": null,
            "flex_flow": null,
            "grid_area": null,
            "grid_auto_columns": null,
            "grid_auto_flow": null,
            "grid_auto_rows": null,
            "grid_column": null,
            "grid_gap": null,
            "grid_row": null,
            "grid_template_areas": null,
            "grid_template_columns": null,
            "grid_template_rows": null,
            "height": null,
            "justify_content": null,
            "justify_items": null,
            "left": null,
            "margin": null,
            "max_height": null,
            "max_width": null,
            "min_height": null,
            "min_width": null,
            "object_fit": null,
            "object_position": null,
            "order": null,
            "overflow": null,
            "overflow_x": null,
            "overflow_y": null,
            "padding": null,
            "right": null,
            "top": null,
            "visibility": null,
            "width": null
          }
        },
        "b0cdf3a6a7754a3f96c42791db1620b7": {
          "model_module": "@jupyter-widgets/controls",
          "model_module_version": "1.5.0",
          "model_name": "HTMLModel",
          "state": {
            "_dom_classes": [],
            "_model_module": "@jupyter-widgets/controls",
            "_model_module_version": "1.5.0",
            "_model_name": "HTMLModel",
            "_view_count": null,
            "_view_module": "@jupyter-widgets/controls",
            "_view_module_version": "1.5.0",
            "_view_name": "HTMLView",
            "description": "",
            "description_tooltip": null,
            "layout": "IPY_MODEL_00e49e61c84c45119230239c11983971",
            "placeholder": "​",
            "style": "IPY_MODEL_5f92233310164ab58afbe1ac07c37c29",
            "value": " 1.37k/1.37k [00:00&lt;00:00, 26.3kB/s]"
          }
        },
        "b219caffedd24a00ba227bd05534d4b9": {
          "model_module": "@jupyter-widgets/controls",
          "model_module_version": "1.5.0",
          "model_name": "HTMLModel",
          "state": {
            "_dom_classes": [],
            "_model_module": "@jupyter-widgets/controls",
            "_model_module_version": "1.5.0",
            "_model_name": "HTMLModel",
            "_view_count": null,
            "_view_module": "@jupyter-widgets/controls",
            "_view_module_version": "1.5.0",
            "_view_name": "HTMLView",
            "description": "",
            "description_tooltip": null,
            "layout": "IPY_MODEL_5132ee7490304732914c4e7cab1d753a",
            "placeholder": "​",
            "style": "IPY_MODEL_6c6c78f8249848989f6f3fdb0b61670e",
            "value": " 312M/312M [00:13&lt;00:00, 34.6MB/s]"
          }
        },
        "b2d36bbd6da34a1b9f459414e948d9a1": {
          "model_module": "@jupyter-widgets/controls",
          "model_module_version": "1.5.0",
          "model_name": "ProgressStyleModel",
          "state": {
            "_model_module": "@jupyter-widgets/controls",
            "_model_module_version": "1.5.0",
            "_model_name": "ProgressStyleModel",
            "_view_count": null,
            "_view_module": "@jupyter-widgets/base",
            "_view_module_version": "1.2.0",
            "_view_name": "StyleView",
            "bar_color": null,
            "description_width": ""
          }
        },
        "b45a9ee18c7a4cc48093436ad2b80796": {
          "model_module": "@jupyter-widgets/base",
          "model_module_version": "1.2.0",
          "model_name": "LayoutModel",
          "state": {
            "_model_module": "@jupyter-widgets/base",
            "_model_module_version": "1.2.0",
            "_model_name": "LayoutModel",
            "_view_count": null,
            "_view_module": "@jupyter-widgets/base",
            "_view_module_version": "1.2.0",
            "_view_name": "LayoutView",
            "align_content": null,
            "align_items": null,
            "align_self": null,
            "border": null,
            "bottom": null,
            "display": null,
            "flex": null,
            "flex_flow": null,
            "grid_area": null,
            "grid_auto_columns": null,
            "grid_auto_flow": null,
            "grid_auto_rows": null,
            "grid_column": null,
            "grid_gap": null,
            "grid_row": null,
            "grid_template_areas": null,
            "grid_template_columns": null,
            "grid_template_rows": null,
            "height": null,
            "justify_content": null,
            "justify_items": null,
            "left": null,
            "margin": null,
            "max_height": null,
            "max_width": null,
            "min_height": null,
            "min_width": null,
            "object_fit": null,
            "object_position": null,
            "order": null,
            "overflow": null,
            "overflow_x": null,
            "overflow_y": null,
            "padding": null,
            "right": null,
            "top": null,
            "visibility": null,
            "width": null
          }
        },
        "be4e4c980ef74c6bb7aaf9d3d53ca3a5": {
          "model_module": "@jupyter-widgets/controls",
          "model_module_version": "1.5.0",
          "model_name": "DescriptionStyleModel",
          "state": {
            "_model_module": "@jupyter-widgets/controls",
            "_model_module_version": "1.5.0",
            "_model_name": "DescriptionStyleModel",
            "_view_count": null,
            "_view_module": "@jupyter-widgets/base",
            "_view_module_version": "1.2.0",
            "_view_name": "StyleView",
            "description_width": ""
          }
        },
        "bfa14377ad944f5eb5bcefc7f9a6fc56": {
          "model_module": "@jupyter-widgets/controls",
          "model_module_version": "1.5.0",
          "model_name": "HBoxModel",
          "state": {
            "_dom_classes": [],
            "_model_module": "@jupyter-widgets/controls",
            "_model_module_version": "1.5.0",
            "_model_name": "HBoxModel",
            "_view_count": null,
            "_view_module": "@jupyter-widgets/controls",
            "_view_module_version": "1.5.0",
            "_view_name": "HBoxView",
            "box_style": "",
            "children": [
              "IPY_MODEL_738b27867d234dc1be8c268e6ca1f1e8",
              "IPY_MODEL_5096ed020dd64a83b939e77a345d2dcf",
              "IPY_MODEL_84cfeb823a144e19809858b308d97b7d"
            ],
            "layout": "IPY_MODEL_f1ea4a2d3eeb4870957fb7240d4e49cd"
          }
        },
        "c02b9e66d7bb4d4997a7083915c48a0b": {
          "model_module": "@jupyter-widgets/controls",
          "model_module_version": "1.5.0",
          "model_name": "HTMLModel",
          "state": {
            "_dom_classes": [],
            "_model_module": "@jupyter-widgets/controls",
            "_model_module_version": "1.5.0",
            "_model_name": "HTMLModel",
            "_view_count": null,
            "_view_module": "@jupyter-widgets/controls",
            "_view_module_version": "1.5.0",
            "_view_name": "HTMLView",
            "description": "",
            "description_tooltip": null,
            "layout": "IPY_MODEL_41ef92512b2549e28a835d5e6939b4cd",
            "placeholder": "​",
            "style": "IPY_MODEL_ff35f7fd012f496ea790d90a42cea938",
            "value": "Downloading (…)olve/main/target.spm: 100%"
          }
        },
        "c6e76f699ecc409dadb6c1336aa4ea16": {
          "model_module": "@jupyter-widgets/controls",
          "model_module_version": "1.5.0",
          "model_name": "DescriptionStyleModel",
          "state": {
            "_model_module": "@jupyter-widgets/controls",
            "_model_module_version": "1.5.0",
            "_model_name": "DescriptionStyleModel",
            "_view_count": null,
            "_view_module": "@jupyter-widgets/base",
            "_view_module_version": "1.2.0",
            "_view_name": "StyleView",
            "description_width": ""
          }
        },
        "ccc8e90de4b84247914ba007a849ea20": {
          "model_module": "@jupyter-widgets/controls",
          "model_module_version": "1.5.0",
          "model_name": "DescriptionStyleModel",
          "state": {
            "_model_module": "@jupyter-widgets/controls",
            "_model_module_version": "1.5.0",
            "_model_name": "DescriptionStyleModel",
            "_view_count": null,
            "_view_module": "@jupyter-widgets/base",
            "_view_module_version": "1.2.0",
            "_view_name": "StyleView",
            "description_width": ""
          }
        },
        "ce4a3739863743f1a33ce23b5a041c65": {
          "model_module": "@jupyter-widgets/base",
          "model_module_version": "1.2.0",
          "model_name": "LayoutModel",
          "state": {
            "_model_module": "@jupyter-widgets/base",
            "_model_module_version": "1.2.0",
            "_model_name": "LayoutModel",
            "_view_count": null,
            "_view_module": "@jupyter-widgets/base",
            "_view_module_version": "1.2.0",
            "_view_name": "LayoutView",
            "align_content": null,
            "align_items": null,
            "align_self": null,
            "border": null,
            "bottom": null,
            "display": null,
            "flex": null,
            "flex_flow": null,
            "grid_area": null,
            "grid_auto_columns": null,
            "grid_auto_flow": null,
            "grid_auto_rows": null,
            "grid_column": null,
            "grid_gap": null,
            "grid_row": null,
            "grid_template_areas": null,
            "grid_template_columns": null,
            "grid_template_rows": null,
            "height": null,
            "justify_content": null,
            "justify_items": null,
            "left": null,
            "margin": null,
            "max_height": null,
            "max_width": null,
            "min_height": null,
            "min_width": null,
            "object_fit": null,
            "object_position": null,
            "order": null,
            "overflow": null,
            "overflow_x": null,
            "overflow_y": null,
            "padding": null,
            "right": null,
            "top": null,
            "visibility": null,
            "width": null
          }
        },
        "ced4b1c6454f4f199154ddad20049af7": {
          "model_module": "@jupyter-widgets/controls",
          "model_module_version": "1.5.0",
          "model_name": "FloatProgressModel",
          "state": {
            "_dom_classes": [],
            "_model_module": "@jupyter-widgets/controls",
            "_model_module_version": "1.5.0",
            "_model_name": "FloatProgressModel",
            "_view_count": null,
            "_view_module": "@jupyter-widgets/controls",
            "_view_module_version": "1.5.0",
            "_view_name": "ProgressView",
            "bar_style": "success",
            "description": "",
            "description_tooltip": null,
            "layout": "IPY_MODEL_47199762684c4c51869f12154966f341",
            "max": 779494,
            "min": 0,
            "orientation": "horizontal",
            "style": "IPY_MODEL_3f24dfb2952a419897f16ea2c2b1458a",
            "value": 779494
          }
        },
        "daf932f47097416dad7824557046c4f6": {
          "model_module": "@jupyter-widgets/controls",
          "model_module_version": "1.5.0",
          "model_name": "DescriptionStyleModel",
          "state": {
            "_model_module": "@jupyter-widgets/controls",
            "_model_module_version": "1.5.0",
            "_model_name": "DescriptionStyleModel",
            "_view_count": null,
            "_view_module": "@jupyter-widgets/base",
            "_view_module_version": "1.2.0",
            "_view_name": "StyleView",
            "description_width": ""
          }
        },
        "db72279aef5f4951944f85eeb892a092": {
          "model_module": "@jupyter-widgets/base",
          "model_module_version": "1.2.0",
          "model_name": "LayoutModel",
          "state": {
            "_model_module": "@jupyter-widgets/base",
            "_model_module_version": "1.2.0",
            "_model_name": "LayoutModel",
            "_view_count": null,
            "_view_module": "@jupyter-widgets/base",
            "_view_module_version": "1.2.0",
            "_view_name": "LayoutView",
            "align_content": null,
            "align_items": null,
            "align_self": null,
            "border": null,
            "bottom": null,
            "display": null,
            "flex": null,
            "flex_flow": null,
            "grid_area": null,
            "grid_auto_columns": null,
            "grid_auto_flow": null,
            "grid_auto_rows": null,
            "grid_column": null,
            "grid_gap": null,
            "grid_row": null,
            "grid_template_areas": null,
            "grid_template_columns": null,
            "grid_template_rows": null,
            "height": null,
            "justify_content": null,
            "justify_items": null,
            "left": null,
            "margin": null,
            "max_height": null,
            "max_width": null,
            "min_height": null,
            "min_width": null,
            "object_fit": null,
            "object_position": null,
            "order": null,
            "overflow": null,
            "overflow_x": null,
            "overflow_y": null,
            "padding": null,
            "right": null,
            "top": null,
            "visibility": null,
            "width": null
          }
        },
        "df30e8dfd8b444419c82638a86df46c3": {
          "model_module": "@jupyter-widgets/base",
          "model_module_version": "1.2.0",
          "model_name": "LayoutModel",
          "state": {
            "_model_module": "@jupyter-widgets/base",
            "_model_module_version": "1.2.0",
            "_model_name": "LayoutModel",
            "_view_count": null,
            "_view_module": "@jupyter-widgets/base",
            "_view_module_version": "1.2.0",
            "_view_name": "LayoutView",
            "align_content": null,
            "align_items": null,
            "align_self": null,
            "border": null,
            "bottom": null,
            "display": null,
            "flex": null,
            "flex_flow": null,
            "grid_area": null,
            "grid_auto_columns": null,
            "grid_auto_flow": null,
            "grid_auto_rows": null,
            "grid_column": null,
            "grid_gap": null,
            "grid_row": null,
            "grid_template_areas": null,
            "grid_template_columns": null,
            "grid_template_rows": null,
            "height": null,
            "justify_content": null,
            "justify_items": null,
            "left": null,
            "margin": null,
            "max_height": null,
            "max_width": null,
            "min_height": null,
            "min_width": null,
            "object_fit": null,
            "object_position": null,
            "order": null,
            "overflow": null,
            "overflow_x": null,
            "overflow_y": null,
            "padding": null,
            "right": null,
            "top": null,
            "visibility": null,
            "width": null
          }
        },
        "e32918a0d0a44eeea1d9d7ba900d5524": {
          "model_module": "@jupyter-widgets/controls",
          "model_module_version": "1.5.0",
          "model_name": "DescriptionStyleModel",
          "state": {
            "_model_module": "@jupyter-widgets/controls",
            "_model_module_version": "1.5.0",
            "_model_name": "DescriptionStyleModel",
            "_view_count": null,
            "_view_module": "@jupyter-widgets/base",
            "_view_module_version": "1.2.0",
            "_view_name": "StyleView",
            "description_width": ""
          }
        },
        "ea9e2f3cdaa647b895ef286634a6ca73": {
          "model_module": "@jupyter-widgets/controls",
          "model_module_version": "1.5.0",
          "model_name": "HBoxModel",
          "state": {
            "_dom_classes": [],
            "_model_module": "@jupyter-widgets/controls",
            "_model_module_version": "1.5.0",
            "_model_name": "HBoxModel",
            "_view_count": null,
            "_view_module": "@jupyter-widgets/controls",
            "_view_module_version": "1.5.0",
            "_view_name": "HBoxView",
            "box_style": "",
            "children": [
              "IPY_MODEL_03320bce423d4f68a72af6a2f3d237c9",
              "IPY_MODEL_15984a0c6d014fb4877ee13b90ea0d43",
              "IPY_MODEL_b219caffedd24a00ba227bd05534d4b9"
            ],
            "layout": "IPY_MODEL_3b0dde9b6eee442b8292c88bb76fd0e8"
          }
        },
        "f1ea4a2d3eeb4870957fb7240d4e49cd": {
          "model_module": "@jupyter-widgets/base",
          "model_module_version": "1.2.0",
          "model_name": "LayoutModel",
          "state": {
            "_model_module": "@jupyter-widgets/base",
            "_model_module_version": "1.2.0",
            "_model_name": "LayoutModel",
            "_view_count": null,
            "_view_module": "@jupyter-widgets/base",
            "_view_module_version": "1.2.0",
            "_view_name": "LayoutView",
            "align_content": null,
            "align_items": null,
            "align_self": null,
            "border": null,
            "bottom": null,
            "display": null,
            "flex": null,
            "flex_flow": null,
            "grid_area": null,
            "grid_auto_columns": null,
            "grid_auto_flow": null,
            "grid_auto_rows": null,
            "grid_column": null,
            "grid_gap": null,
            "grid_row": null,
            "grid_template_areas": null,
            "grid_template_columns": null,
            "grid_template_rows": null,
            "height": null,
            "justify_content": null,
            "justify_items": null,
            "left": null,
            "margin": null,
            "max_height": null,
            "max_width": null,
            "min_height": null,
            "min_width": null,
            "object_fit": null,
            "object_position": null,
            "order": null,
            "overflow": null,
            "overflow_x": null,
            "overflow_y": null,
            "padding": null,
            "right": null,
            "top": null,
            "visibility": null,
            "width": null
          }
        },
        "f813b2a9a64447b09614709afd7013a8": {
          "model_module": "@jupyter-widgets/controls",
          "model_module_version": "1.5.0",
          "model_name": "FloatProgressModel",
          "state": {
            "_dom_classes": [],
            "_model_module": "@jupyter-widgets/controls",
            "_model_module_version": "1.5.0",
            "_model_name": "FloatProgressModel",
            "_view_count": null,
            "_view_module": "@jupyter-widgets/controls",
            "_view_module_version": "1.5.0",
            "_view_name": "ProgressView",
            "bar_style": "success",
            "description": "",
            "description_tooltip": null,
            "layout": "IPY_MODEL_80b0ea229af44c8593cf4153874e943c",
            "max": 1366,
            "min": 0,
            "orientation": "horizontal",
            "style": "IPY_MODEL_4fdf680c857f40e8bc2d2d7c467d0f28",
            "value": 1366
          }
        },
        "fa8fa7a157a041049fc1059784bae74d": {
          "model_module": "@jupyter-widgets/base",
          "model_module_version": "1.2.0",
          "model_name": "LayoutModel",
          "state": {
            "_model_module": "@jupyter-widgets/base",
            "_model_module_version": "1.2.0",
            "_model_name": "LayoutModel",
            "_view_count": null,
            "_view_module": "@jupyter-widgets/base",
            "_view_module_version": "1.2.0",
            "_view_name": "LayoutView",
            "align_content": null,
            "align_items": null,
            "align_self": null,
            "border": null,
            "bottom": null,
            "display": null,
            "flex": null,
            "flex_flow": null,
            "grid_area": null,
            "grid_auto_columns": null,
            "grid_auto_flow": null,
            "grid_auto_rows": null,
            "grid_column": null,
            "grid_gap": null,
            "grid_row": null,
            "grid_template_areas": null,
            "grid_template_columns": null,
            "grid_template_rows": null,
            "height": null,
            "justify_content": null,
            "justify_items": null,
            "left": null,
            "margin": null,
            "max_height": null,
            "max_width": null,
            "min_height": null,
            "min_width": null,
            "object_fit": null,
            "object_position": null,
            "order": null,
            "overflow": null,
            "overflow_x": null,
            "overflow_y": null,
            "padding": null,
            "right": null,
            "top": null,
            "visibility": null,
            "width": null
          }
        },
        "fbc3a019caae4c2f8b4538b460121799": {
          "model_module": "@jupyter-widgets/controls",
          "model_module_version": "1.5.0",
          "model_name": "ProgressStyleModel",
          "state": {
            "_model_module": "@jupyter-widgets/controls",
            "_model_module_version": "1.5.0",
            "_model_name": "ProgressStyleModel",
            "_view_count": null,
            "_view_module": "@jupyter-widgets/base",
            "_view_module_version": "1.2.0",
            "_view_name": "StyleView",
            "bar_color": null,
            "description_width": ""
          }
        },
        "ff35f7fd012f496ea790d90a42cea938": {
          "model_module": "@jupyter-widgets/controls",
          "model_module_version": "1.5.0",
          "model_name": "DescriptionStyleModel",
          "state": {
            "_model_module": "@jupyter-widgets/controls",
            "_model_module_version": "1.5.0",
            "_model_name": "DescriptionStyleModel",
            "_view_count": null,
            "_view_module": "@jupyter-widgets/base",
            "_view_module_version": "1.2.0",
            "_view_name": "StyleView",
            "description_width": ""
          }
        }
      }
    }
  },
  "nbformat": 4,
  "nbformat_minor": 0
}
